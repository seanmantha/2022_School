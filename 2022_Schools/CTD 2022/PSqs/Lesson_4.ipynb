{
    "cells": [
        {
            "cell_type": "markdown",
            "metadata": {
                "colab_type": "text",
                "deletable": false,
                "editable": false,
                "id": "e0ZPC4DjacRV",
                "nbgrader": {
                    "grade": false,
                    "locked": true,
                    "solution": false
                }
            },
            "source": [
                "### 10.014 Computational Thinking For Design, Fall 2022\n",
                "\n",
                "## Problem Set 4\n",
                "\n",
                "© Singapore University of Technology and Design, 2022\n"
            ]
        },
        {
            "cell_type": "markdown",
            "metadata": {
                "deletable": false,
                "editable": false,
                "nbgrader": {
                    "grade": false,
                    "locked": true,
                    "solution": false
                }
            },
            "source": [
                "### Lesson Materials For This Problem Set \n",
                "\n",
                "Materials for [Lesson 4](https://colab.research.google.com/drive/1A5NVuk8--DfpAA7rWhwuvtINy4hNaHfv?usp=sharing)"
            ]
        },
        {
            "cell_type": "markdown",
            "metadata": {
                "colab_type": "text",
                "deletable": false,
                "editable": false,
                "id": "TPJXjFvN98c8",
                "nbgrader": {
                    "grade": false,
                    "locked": true,
                    "solution": false
                }
            },
            "source": [
                "### Problem 4.00 ```bmi_information(weight, height)```"
            ]
        },
        {
            "cell_type": "markdown",
            "metadata": {
                "colab_type": "text",
                "deletable": false,
                "editable": false,
                "id": "-0l0cWIi-EH_",
                "nbgrader": {
                    "grade": false,
                    "locked": true,
                    "solution": false
                }
            },
            "source": [
                "This function \n",
                "- takes in the weight in kg and height in cm of a person\n",
                "- calculates the BMI of the person\n",
                "- determines its risk category \n",
                "- returns a string that describes both information. \n",
                "\n",
                "Use the ```format()``` method of a string.\n",
                "\n",
                "You can reuse the functions ```calculate_bmi()``` and ```describe_bmi()``` in Problem Set 2.\n",
                "\n",
                "```python\n",
                "info = bmi_information( 70, 167) \n",
                "print(info)\n",
                "```\n",
                "```\n",
                "Your BMI is 25.1 and your category is moderate risk.\n",
                "```\n",
                "Please note that \n",
                "- the BMI is displayed to one decimal place \n",
                "- there is a full-stop at the end of the sentence.\n"
            ]
        },
        {
            "cell_type": "markdown",
            "metadata": {
                "deletable": false,
                "editable": false,
                "nbgrader": {
                    "grade": false,
                    "locked": true,
                    "solution": false
                }
            },
            "source": [
                "#### Your solution here:\n",
                "\n",
                "Reminder: after writing your solution, don't forget to write code to execute the function and display its output"
            ]
        },
        {
            "cell_type": "code",
            "execution_count": 8,
            "metadata": {
                "collapsed": true
            },
            "outputs": [],
            "source": [
                "def calculate_bmi(weight, height):\n",
                "    ###\n",
                "    ### <paste your solution from Lesson 2>\n",
                "    ###\n",
                "    pass \n",
                "    \n",
                "def describe_bmi(bmi):\n",
                "    ###\n",
                "    ### <paste your solution from Lesson 2>\n",
                "    ###\n",
                "    pass \n",
                "\n",
                "def bmi_information(weight, height):\n",
                "    ###\n",
                "    ### YOUR CODE HERE\n",
                "    ###\n",
                "    pass \n",
                "    \n",
                "    "
            ]
        },
        {
            "cell_type": "code",
            "execution_count": 9,
            "metadata": {
                "deletable": false,
                "editable": false,
                "nbgrader": {
                    "grade": true,
                    "grade_id": "4.00test1",
                    "locked": true,
                    "points": "1",
                    "solution": false
                }
            },
            "outputs": [],
            "source": [
                "###\n",
                "### AUTOGRADER TEST - DO NOT REMOVE\n",
                "###\n"
            ]
        },
        {
            "cell_type": "code",
            "execution_count": null,
            "metadata": {
                "collapsed": true,
                "deletable": false,
                "editable": false,
                "nbgrader": {
                    "grade": true,
                    "grade_id": "4.00test2",
                    "locked": true,
                    "points": "1",
                    "solution": false
                }
            },
            "outputs": [],
            "source": [
                "###\n",
                "### AUTOGRADER TEST - DO NOT REMOVE\n",
                "###\n"
            ]
        },
        {
            "cell_type": "markdown",
            "metadata": {
                "colab_type": "text",
                "deletable": false,
                "editable": false,
                "id": "TWpZ6yP-aeWp",
                "nbgrader": {
                    "grade": false,
                    "locked": true,
                    "solution": false
                }
            },
            "source": [
                "### Problem 4.01 ```reverse(s)```"
            ]
        },
        {
            "cell_type": "markdown",
            "metadata": {
                "colab_type": "text",
                "deletable": false,
                "editable": false,
                "id": "WJRKwPdKXTnU",
                "nbgrader": {
                    "grade": false,
                    "locked": true,
                    "solution": false
                }
            },
            "source": [
                "This function takes in a string ```s```. \n",
                "\n",
                "It returns another string with the characters in reverse order. \n",
                "\n",
                "You should try two solutions, \n",
                "- one using loops\n",
                "- the other using slicing\n",
                "\n",
                "Test case: \n",
                "\n",
                "```python \n",
                "result = reverse('I choose you')\n",
                "print(result)\n",
                "```\n",
                "\n",
                "Output: \n",
                "```\n",
                "uoy esoohc I\n",
                "```\n",
                "\n",
                "\n"
            ]
        },
        {
            "cell_type": "markdown",
            "metadata": {
                "deletable": false,
                "editable": false,
                "nbgrader": {
                    "grade": false,
                    "locked": true,
                    "solution": false
                }
            },
            "source": [
                "#### Your solution here:"
            ]
        },
        {
            "cell_type": "code",
            "execution_count": null,
            "metadata": {
                "collapsed": true
            },
            "outputs": [],
            "source": [
                "def reverse(s):\n",
                "    ###\n",
                "    ### YOUR CODE HERE\n",
                "    ###\n",
                "    pass"
            ]
        },
        {
            "cell_type": "code",
            "execution_count": null,
            "metadata": {
                "collapsed": true,
                "deletable": false,
                "editable": false,
                "nbgrader": {
                    "grade": true,
                    "grade_id": "4.01test1",
                    "locked": true,
                    "points": "1",
                    "solution": false
                }
            },
            "outputs": [],
            "source": [
                "###\n",
                "### AUTOGRADER TEST - DO NOT REMOVE\n",
                "###\n"
            ]
        },
        {
            "cell_type": "code",
            "execution_count": null,
            "metadata": {
                "collapsed": true,
                "deletable": false,
                "editable": false,
                "nbgrader": {
                    "grade": true,
                    "grade_id": "4.01test2",
                    "locked": true,
                    "points": "1",
                    "solution": false
                }
            },
            "outputs": [],
            "source": [
                "###\n",
                "### AUTOGRADER TEST - DO NOT REMOVE\n",
                "###\n"
            ]
        },
        {
            "cell_type": "markdown",
            "metadata": {
                "colab_type": "text",
                "deletable": false,
                "editable": false,
                "id": "pPte2RsKamqX",
                "nbgrader": {
                    "grade": false,
                    "locked": true,
                    "solution": false
                }
            },
            "source": [
                "### Problem 4.02 ```is_palindrome(s)```"
            ]
        },
        {
            "cell_type": "markdown",
            "metadata": {
                "colab_type": "text",
                "deletable": false,
                "editable": false,
                "id": "LYeWDAb3YO5Z",
                "nbgrader": {
                    "grade": false,
                    "locked": true,
                    "solution": false
                }
            },
            "source": [
                "This function takes in a string ```s```.\n",
                "\n",
                "If ```s``` is a palindrome, \n",
                "- it returns ```True```\n",
                "- else, it returns ```False``` \n",
                "\n",
                "\n",
                "You should try two solutions, \n",
                "- one using loops\n",
                "- the other using slicing \n",
                "\n",
                "Test case: \n",
                "\n",
                "```python\n",
                "result = is_palindrome('civic')\n",
                "print(result)\n",
                "result = is_palindrome('sonar')\n",
                "print(result)\n",
                "```\n",
                "\n",
                "Output:\n",
                "\n",
                "```\n",
                "True\n",
                "False\n",
                "```"
            ]
        },
        {
            "cell_type": "markdown",
            "metadata": {
                "deletable": false,
                "editable": false,
                "nbgrader": {
                    "grade": false,
                    "locked": true,
                    "solution": false
                }
            },
            "source": [
                "#### Your solution here: "
            ]
        },
        {
            "cell_type": "code",
            "execution_count": null,
            "metadata": {
                "collapsed": true
            },
            "outputs": [],
            "source": [
                "def is_palindrome(s):\n",
                "    ###\n",
                "    ### YOUR CODE HERE\n",
                "    ###\n",
                "    pass"
            ]
        },
        {
            "cell_type": "code",
            "execution_count": null,
            "metadata": {
                "collapsed": true,
                "deletable": false,
                "editable": false,
                "nbgrader": {
                    "grade": true,
                    "grade_id": "4.02test1",
                    "locked": true,
                    "points": "1",
                    "solution": false
                }
            },
            "outputs": [],
            "source": [
                "###\n",
                "### AUTOGRADER TEST - DO NOT REMOVE\n",
                "###\n"
            ]
        },
        {
            "cell_type": "code",
            "execution_count": null,
            "metadata": {
                "collapsed": true,
                "deletable": false,
                "editable": false,
                "nbgrader": {
                    "grade": true,
                    "grade_id": "4.02test2",
                    "locked": true,
                    "points": "1",
                    "solution": false
                }
            },
            "outputs": [],
            "source": [
                "###\n",
                "### AUTOGRADER TEST - DO NOT REMOVE\n",
                "###\n"
            ]
        },
        {
            "cell_type": "code",
            "execution_count": null,
            "metadata": {
                "collapsed": true,
                "deletable": false,
                "editable": false,
                "nbgrader": {
                    "grade": true,
                    "grade_id": "4.02test3",
                    "locked": true,
                    "points": "1",
                    "solution": false
                }
            },
            "outputs": [],
            "source": [
                "###\n",
                "### AUTOGRADER TEST - DO NOT REMOVE\n",
                "###\n"
            ]
        },
        {
            "cell_type": "markdown",
            "metadata": {
                "colab_type": "text",
                "deletable": false,
                "editable": false,
                "id": "LxOe2_Vvayzw",
                "nbgrader": {
                    "grade": false,
                    "locked": true,
                    "solution": false
                }
            },
            "source": [
                "### Problem 4.03 ```match(a,b)```"
            ]
        },
        {
            "cell_type": "markdown",
            "metadata": {
                "colab_type": "text",
                "deletable": false,
                "editable": false,
                "id": "rJnPbh8dofSS",
                "nbgrader": {
                    "grade": false,
                    "locked": true,
                    "solution": false
                }
            },
            "source": [
                "This function takes in two strings, ```a``` and ```b```. \n",
                "\n",
                "Both are never empty and both are always lowercase.\n",
                "\n",
                "String ```a``` is typically a few characters and string ```b``` is a word.\n",
                "\n",
                "If the characters at the end of ```b``` matches ```a```, \n",
                "- return ```True```, \n",
                "- otherwise, return ```False```. \n",
                "\n",
                "One way to solve this problem is to \n",
                "- obtain the length of ```a```\n",
                "- use this length to slice ```b``` at its end\n",
                "- now that you have ```a``` and the slice of ```b```, you are ready to compare them. \n",
                "\n",
                "Test cases: \n",
                "```python\n",
                "ending = 'nus'\n",
                "word = 'parvenus' \n",
                "result = match(ending, word)\n",
                "print(result)\n",
                "\n",
                "ending = 'nus'\n",
                "word = 'aviatrix'\n",
                "result = match(ending, word)\n",
                "print(result)\n",
                "\n",
                "ending = 'lar'\n",
                "word = 'agricolarum'\n",
                "result = match(ending, word)\n",
                "print(result)\n",
                "```\n",
                "\n",
                "the output is\n",
                "\n",
                "```\n",
                "True\n",
                "False\n",
                "False\n",
                "```\n",
                "\n"
            ]
        },
        {
            "cell_type": "markdown",
            "metadata": {
                "deletable": false,
                "editable": false,
                "nbgrader": {
                    "grade": false,
                    "locked": true,
                    "solution": false
                }
            },
            "source": [
                "#### Your solution here:"
            ]
        },
        {
            "cell_type": "code",
            "execution_count": null,
            "metadata": {
                "collapsed": true
            },
            "outputs": [],
            "source": [
                "def match(ending, word):\n",
                "    ###\n",
                "    ### YOUR CODE HERE\n",
                "    ###\n",
                "    pass"
            ]
        },
        {
            "cell_type": "code",
            "execution_count": null,
            "metadata": {
                "collapsed": true,
                "deletable": false,
                "editable": false,
                "nbgrader": {
                    "grade": true,
                    "grade_id": "4.03test1",
                    "locked": true,
                    "points": "1",
                    "solution": false
                }
            },
            "outputs": [],
            "source": [
                "###\n",
                "### AUTOGRADER TEST - DO NOT REMOVE\n",
                "###\n"
            ]
        },
        {
            "cell_type": "code",
            "execution_count": null,
            "metadata": {
                "collapsed": true,
                "deletable": false,
                "editable": false,
                "nbgrader": {
                    "grade": true,
                    "grade_id": "4.03test2",
                    "locked": true,
                    "points": "1",
                    "solution": false
                }
            },
            "outputs": [],
            "source": [
                "###\n",
                "### AUTOGRADER TEST - DO NOT REMOVE\n",
                "###\n"
            ]
        },
        {
            "cell_type": "code",
            "execution_count": null,
            "metadata": {
                "collapsed": true,
                "deletable": false,
                "editable": false,
                "nbgrader": {
                    "grade": true,
                    "grade_id": "4.03test3",
                    "locked": true,
                    "points": "1",
                    "solution": false
                }
            },
            "outputs": [],
            "source": [
                "###\n",
                "### AUTOGRADER TEST - DO NOT REMOVE\n",
                "###\n"
            ]
        },
        {
            "cell_type": "code",
            "execution_count": null,
            "metadata": {
                "collapsed": true,
                "deletable": false,
                "editable": false,
                "nbgrader": {
                    "grade": true,
                    "grade_id": "4.03test4",
                    "locked": true,
                    "points": "1",
                    "solution": false
                }
            },
            "outputs": [],
            "source": [
                "###\n",
                "### AUTOGRADER TEST - DO NOT REMOVE\n",
                "###\n"
            ]
        },
        {
            "cell_type": "markdown",
            "metadata": {
                "deletable": false,
                "editable": false,
                "nbgrader": {
                    "grade": false,
                    "locked": true,
                    "solution": false
                }
            },
            "source": [
                "### Problem 4.04 ```clean_string(s)```\n"
            ]
        },
        {
            "cell_type": "markdown",
            "metadata": {
                "deletable": false,
                "editable": false,
                "nbgrader": {
                    "grade": false,
                    "locked": true,
                    "solution": false
                }
            },
            "source": [
                "\"cleaning a string\" means to remove unwanted characters from it.\n",
                "\n",
                "This function takes in a string ```s```, processes it and returns a string which has only the alphanumeric characters (e.g. letters and digits) and spaces retained. \n",
                "\n",
                "You can assume that ```s``` does not have any leading or trailing spaces.\n",
                "\n",
                "The algorithm is given below. The idea behind it is to retain the characters you want and add them to a new string. \n",
                "\n",
                "---\n",
                "**Algorithm**\n",
                "\n",
                "Given a string ```s```\n",
                "\n",
                "1. ```out``` is an empty string\n",
                "\n",
                "2. for each character in ```s```\n",
                "\n",
                "   a. if the character is a space or an alphanumeric character, concatenate it with ```out```\n",
                "   \n",
                "   b. else, do nothing \n",
                "   \n",
                "--- \n",
                "\n",
                "**NOTE**: The test cases below are not exhaustive and there can be other unwanted characters.\n",
                "\n",
                "Test cases \n",
                "```python\n",
                "print(clean_string(\"Hello. Are you there?!\"))\n",
                "print(clear_string(\"If you don’t take risks, you can’t create a future!\"))\n",
                "```\n",
                "\n",
                "```\n",
                "Hello Are you there\n",
                "If you dont take risks you cant create a future\n",
                "```"
            ]
        },
        {
            "cell_type": "code",
            "execution_count": 31,
            "metadata": {
                "collapsed": true
            },
            "outputs": [],
            "source": [
                "def clean_string(s):\n",
                "    out = \"\"\n",
                "    for char in s:\n",
                "        pass\n",
                "    ###\n",
                "    ### YOUR CODE HERE\n",
                "    ###\n",
                "    return out"
            ]
        },
        {
            "cell_type": "code",
            "execution_count": 30,
            "metadata": {
                "deletable": false,
                "editable": false,
                "nbgrader": {
                    "grade": true,
                    "grade_id": "4.04test1",
                    "locked": true,
                    "points": "1",
                    "solution": false
                }
            },
            "outputs": [],
            "source": [
                "###\n",
                "### AUTOGRADER TEST - DO NOT REMOVE\n",
                "###\n"
            ]
        },
        {
            "cell_type": "code",
            "execution_count": 29,
            "metadata": {
                "deletable": false,
                "editable": false,
                "nbgrader": {
                    "grade": true,
                    "grade_id": "4.04test2",
                    "locked": true,
                    "points": "1",
                    "solution": false
                }
            },
            "outputs": [],
            "source": [
                "###\n",
                "### AUTOGRADER TEST - DO NOT REMOVE\n",
                "###\n"
            ]
        },
        {
            "cell_type": "markdown",
            "metadata": {
                "colab_type": "text",
                "deletable": false,
                "editable": false,
                "id": "YVz2wJBRQnBg",
                "nbgrader": {
                    "grade": false,
                    "locked": true,
                    "solution": false
                }
            },
            "source": [
                "### Problem 4.05 ```check_password(pwd)```"
            ]
        },
        {
            "cell_type": "markdown",
            "metadata": {
                "colab_type": "text",
                "deletable": false,
                "editable": false,
                "id": "6Bd8oV_bbwkC",
                "nbgrader": {
                    "grade": false,
                    "locked": true,
                    "solution": false
                }
            },
            "source": [
                "This function checks whether the string ```pwd``` is a valid password. \n",
                "\n",
                "The rules are \n",
                "- a password must have at least 8 characters\n",
                "- a password must consist of only letters and digits\n",
                "- a password must contain at least two digits \n",
                "\n",
                "\n",
                "First, write a function ```digits_in_string(s)``` which counts the number of digits in ```s``` and returns the value. \n",
                "\n",
                "Then, make use of ```digits_in_string(s)``` within ```check_password(pwd)```. \n",
                "\n",
                "```python\n",
                "ans = digits_in_string('pokemon')\n",
                "print(ans)\n",
                "ans = digits_in_string('poke201mon')\n",
                "print(ans)\n",
                "ans = check_password('test') \n",
                "print(ans)\n",
                "ans=check_password('testtest') \n",
                "print(ans)\n",
                "ans=check_password('testt22') \n",
                "print(ans)\n",
                "ans=check_password('testte22') \n",
                "print(ans)\n",
                "```\n",
                "```\n",
                "0\n",
                "3\n",
                "False\n",
                "False\n",
                "False\n",
                "True\n",
                "```\n"
            ]
        },
        {
            "cell_type": "markdown",
            "metadata": {
                "deletable": false,
                "editable": false,
                "nbgrader": {
                    "grade": false,
                    "locked": true,
                    "solution": false
                }
            },
            "source": [
                "#### your solution here:"
            ]
        },
        {
            "cell_type": "code",
            "execution_count": 18,
            "metadata": {
                "collapsed": true
            },
            "outputs": [],
            "source": [
                "def digits_in_string(s):\n",
                "    digit_count = 0\n",
                "    ###\n",
                "    ### YOUR CODE HERE\n",
                "    ###\n",
                "\n",
                "def check_password(pwd):\n",
                "\n",
                "    ### Each of these are boolean variables. Fill in the appropriate expression or function call in place of True. \n",
                "    is_password_eight = True  ##true if password has 8 characters or more, else false\n",
                "    is_password_alnum = True  ##true if password is alphanumeric, else false\n",
                "    is_password_2d = True     ##true if password has 2 digits or more, else false \n",
                "    \n",
                "    ### write a suitable return statement with the boolean variables above \n",
                "    ###\n",
                "    ### YOUR CODE HERE\n",
                "    ###\n"
            ]
        },
        {
            "cell_type": "code",
            "execution_count": 15,
            "metadata": {
                "deletable": false,
                "editable": false,
                "nbgrader": {
                    "grade": true,
                    "grade_id": "4.05test1",
                    "locked": true,
                    "points": "1",
                    "solution": false
                }
            },
            "outputs": [],
            "source": [
                "###\n",
                "### AUTOGRADER TEST - DO NOT REMOVE\n",
                "###\n"
            ]
        },
        {
            "cell_type": "code",
            "execution_count": 16,
            "metadata": {
                "deletable": false,
                "editable": false,
                "nbgrader": {
                    "grade": true,
                    "grade_id": "4.05test2",
                    "locked": true,
                    "points": "1",
                    "solution": false
                }
            },
            "outputs": [],
            "source": [
                "###\n",
                "### AUTOGRADER TEST - DO NOT REMOVE\n",
                "###\n"
            ]
        },
        {
            "cell_type": "code",
            "execution_count": 10,
            "metadata": {
                "deletable": false,
                "editable": false,
                "nbgrader": {
                    "grade": true,
                    "grade_id": "4.05test3",
                    "locked": true,
                    "points": "1",
                    "solution": false
                }
            },
            "outputs": [],
            "source": [
                "###\n",
                "### AUTOGRADER TEST - DO NOT REMOVE\n",
                "###\n"
            ]
        },
        {
            "cell_type": "code",
            "execution_count": 11,
            "metadata": {
                "deletable": false,
                "editable": false,
                "nbgrader": {
                    "grade": true,
                    "grade_id": "4.05test4",
                    "locked": true,
                    "points": "1",
                    "solution": false
                }
            },
            "outputs": [],
            "source": [
                "###\n",
                "### AUTOGRADER TEST - DO NOT REMOVE\n",
                "###\n"
            ]
        },
        {
            "cell_type": "code",
            "execution_count": 12,
            "metadata": {
                "deletable": false,
                "editable": false,
                "nbgrader": {
                    "grade": true,
                    "grade_id": "4.05test5",
                    "locked": true,
                    "points": "1",
                    "solution": false
                }
            },
            "outputs": [],
            "source": [
                "###\n",
                "### AUTOGRADER TEST - DO NOT REMOVE\n",
                "###\n"
            ]
        },
        {
            "cell_type": "code",
            "execution_count": 13,
            "metadata": {
                "deletable": false,
                "editable": false,
                "nbgrader": {
                    "grade": true,
                    "grade_id": "4.05test6",
                    "locked": true,
                    "points": "1",
                    "solution": false
                }
            },
            "outputs": [],
            "source": [
                "###\n",
                "### AUTOGRADER TEST - DO NOT REMOVE\n",
                "###\n"
            ]
        },
        {
            "cell_type": "code",
            "execution_count": 14,
            "metadata": {
                "deletable": false,
                "editable": false,
                "nbgrader": {
                    "grade": true,
                    "grade_id": "4.05test7",
                    "locked": true,
                    "points": "1",
                    "solution": false
                }
            },
            "outputs": [],
            "source": [
                "###\n",
                "### AUTOGRADER TEST - DO NOT REMOVE\n",
                "###\n"
            ]
        },
        {
            "cell_type": "markdown",
            "metadata": {
                "colab_type": "text",
                "deletable": false,
                "editable": false,
                "id": "Nk9P0hkgQwzh",
                "nbgrader": {
                    "grade": false,
                    "locked": true,
                    "solution": false
                }
            },
            "source": [
                "### Problem 4.06 ```longest_common_prefix(s1, s2)```"
            ]
        },
        {
            "cell_type": "markdown",
            "metadata": {
                "colab_type": "text",
                "deletable": false,
                "editable": false,
                "id": "a0OmGWgEQ2lg",
                "nbgrader": {
                    "grade": false,
                    "locked": true,
                    "solution": false
                }
            },
            "source": [
                "This function takes in two strings and returns their longest prefix. \n",
                "\n",
                "For example, the longest common prefix of ```distance``` and ```disinfection``` is ```dis```. \n",
                "\n",
                "If the two strings have no common longest common prefix, the method returns an empty string.\n",
                "\n",
                "Either or both of the strings may be empty, in which case, there is no common prefix as well.\n",
                "\n",
                "```python\n",
                "ans=longest_common_prefix('distance','disinfection') \n",
                "print(ans)\n",
                "ans=longest_common_prefix('testing','technical') \n",
                "print(ans)\n",
                "ans=longest_common_prefix('rosses','crosses') \n",
                "print(ans)\n",
                "```\n",
                "```\n",
                "dis\n",
                "te\n",
                "\n",
                "```\n",
                "\n",
                "\n",
                "\n"
            ]
        },
        {
            "cell_type": "markdown",
            "metadata": {
                "deletable": false,
                "editable": false,
                "nbgrader": {
                    "grade": false,
                    "locked": true,
                    "solution": false
                }
            },
            "source": [
                "#### Your solution here:"
            ]
        },
        {
            "cell_type": "code",
            "execution_count": null,
            "metadata": {
                "collapsed": true
            },
            "outputs": [],
            "source": [
                "def longest_common_prefix(s1, s2):\n",
                "    ###\n",
                "    ### YOUR CODE HERE\n",
                "    ###\n",
                "    pass"
            ]
        },
        {
            "cell_type": "code",
            "execution_count": null,
            "metadata": {
                "collapsed": true,
                "deletable": false,
                "editable": false,
                "nbgrader": {
                    "grade": true,
                    "grade_id": "4.06test1",
                    "locked": true,
                    "points": "1",
                    "solution": false
                }
            },
            "outputs": [],
            "source": [
                "###\n",
                "### AUTOGRADER TEST - DO NOT REMOVE\n",
                "###\n"
            ]
        },
        {
            "cell_type": "code",
            "execution_count": null,
            "metadata": {
                "collapsed": true,
                "deletable": false,
                "editable": false,
                "nbgrader": {
                    "grade": true,
                    "grade_id": "4.06test2",
                    "locked": true,
                    "points": "1",
                    "solution": false
                }
            },
            "outputs": [],
            "source": [
                "###\n",
                "### AUTOGRADER TEST - DO NOT REMOVE\n",
                "###\n"
            ]
        },
        {
            "cell_type": "code",
            "execution_count": null,
            "metadata": {
                "collapsed": true,
                "deletable": false,
                "editable": false,
                "nbgrader": {
                    "grade": true,
                    "grade_id": "4.06test3",
                    "locked": true,
                    "points": "1",
                    "solution": false
                }
            },
            "outputs": [],
            "source": [
                "###\n",
                "### AUTOGRADER TEST - DO NOT REMOVE\n",
                "###\n"
            ]
        },
        {
            "cell_type": "code",
            "execution_count": null,
            "metadata": {
                "collapsed": true,
                "deletable": false,
                "editable": false,
                "nbgrader": {
                    "grade": true,
                    "grade_id": "4.06test4",
                    "locked": true,
                    "points": "1",
                    "solution": false
                }
            },
            "outputs": [],
            "source": [
                "###\n",
                "### AUTOGRADER TEST - DO NOT REMOVE\n",
                "###\n"
            ]
        },
        {
            "cell_type": "markdown",
            "metadata": {
                "colab_type": "text",
                "deletable": false,
                "editable": false,
                "id": "fnFWXVGHQd07",
                "nbgrader": {
                    "grade": false,
                    "locked": true,
                    "solution": false
                }
            },
            "source": [
                "### Problem 4.07 ```binary_to_decimal(s)```"
            ]
        },
        {
            "cell_type": "markdown",
            "metadata": {
                "colab_type": "text",
                "deletable": false,
                "editable": false,
                "id": "n8qa0aSgY7QJ",
                "nbgrader": {
                    "grade": false,
                    "locked": true,
                    "solution": false
                }
            },
            "source": [
                "This function takes in a string that represents a binary number. \n",
                "\n",
                "It returns the decimal equivalent as an integer. \n",
                "\n",
                "You may assume that \n",
                "- the string will not be empty\n",
                "- the string will contain only ```1``` and ```0``` \n",
                "\n",
                "\n",
                "```python \n",
                "print(binary_to_decimal('100'))  \n",
                "print(binary_to_decimal('101'))  \n",
                "print(binary_to_decimal('10001'))  \n",
                "print(binary_to_decimal('10101'))  \n",
                "```\n",
                "\n",
                "```python \n",
                "4\n",
                "5\n",
                "17\n",
                "21\n",
                "```"
            ]
        },
        {
            "cell_type": "code",
            "execution_count": null,
            "metadata": {
                "collapsed": true
            },
            "outputs": [],
            "source": [
                "def binary_to_decimal(s):\n",
                "    ###\n",
                "    ### YOUR CODE HERE\n",
                "    ###\n",
                "    pass\n",
                "        \n",
                "        "
            ]
        },
        {
            "cell_type": "code",
            "execution_count": null,
            "metadata": {
                "collapsed": true,
                "deletable": false,
                "editable": false,
                "nbgrader": {
                    "grade": true,
                    "grade_id": "4.07test1",
                    "locked": true,
                    "points": "1",
                    "solution": false
                }
            },
            "outputs": [],
            "source": [
                "###\n",
                "### AUTOGRADER TEST - DO NOT REMOVE\n",
                "###\n"
            ]
        },
        {
            "cell_type": "code",
            "execution_count": null,
            "metadata": {
                "collapsed": true,
                "deletable": false,
                "editable": false,
                "nbgrader": {
                    "grade": true,
                    "grade_id": "4.07test2",
                    "locked": true,
                    "points": "1",
                    "solution": false
                }
            },
            "outputs": [],
            "source": [
                "###\n",
                "### AUTOGRADER TEST - DO NOT REMOVE\n",
                "###\n"
            ]
        },
        {
            "cell_type": "code",
            "execution_count": null,
            "metadata": {
                "collapsed": true,
                "deletable": false,
                "editable": false,
                "nbgrader": {
                    "grade": true,
                    "grade_id": "4.07test3",
                    "locked": true,
                    "points": "1",
                    "solution": false
                }
            },
            "outputs": [],
            "source": [
                "###\n",
                "### AUTOGRADER TEST - DO NOT REMOVE\n",
                "###\n"
            ]
        },
        {
            "cell_type": "code",
            "execution_count": null,
            "metadata": {
                "collapsed": true,
                "deletable": false,
                "editable": false,
                "nbgrader": {
                    "grade": true,
                    "grade_id": "4.07test4",
                    "locked": true,
                    "points": "1",
                    "solution": false
                }
            },
            "outputs": [],
            "source": [
                "###\n",
                "### AUTOGRADER TEST - DO NOT REMOVE\n",
                "###\n"
            ]
        },
        {
            "cell_type": "markdown",
            "metadata": {
                "colab_type": "text",
                "deletable": false,
                "editable": false,
                "id": "nN96ZW_ITfKS",
                "nbgrader": {
                    "grade": false,
                    "locked": true,
                    "solution": false
                }
            },
            "source": [
                "### Problem 4.08 ```uncompressed(s)```"
            ]
        },
        {
            "cell_type": "markdown",
            "metadata": {
                "colab_type": "text",
                "deletable": false,
                "editable": false,
                "id": "-lfK6kpUSiOh",
                "nbgrader": {
                    "grade": false,
                    "locked": true,
                    "solution": false
                }
            },
            "source": [
                "This function takes in a string that is encoded and decodes it.\n",
                "\n",
                "The string is encoded using what is known as **run-length encoding**: \n",
                "- Each alphabetic character is preceded by a single digit. \n",
                "- This indicates the number of times that the character is repeated. \n",
                "\n",
                "For example, \n",
                "- decoding ```1x1y``` gives ```xy```\n",
                "- decoding ```2a5b1c``` gives ```aabbbbbc```\n",
                "- decoding ```1a1b2c``` gives ```abcc```\n",
                "- decoding ```1a9b3b1c``` gives ```abbbbbbbbbbbbc```"
            ]
        },
        {
            "cell_type": "markdown",
            "metadata": {
                "deletable": false,
                "editable": false,
                "nbgrader": {
                    "grade": false,
                    "locked": true,
                    "solution": false
                }
            },
            "source": [
                "#### Your solution here: "
            ]
        },
        {
            "cell_type": "code",
            "execution_count": null,
            "metadata": {
                "collapsed": true
            },
            "outputs": [],
            "source": [
                "def uncompressed(s):\n",
                "    ###\n",
                "    ### YOUR CODE HERE\n",
                "    ###\n",
                "        "
            ]
        },
        {
            "cell_type": "code",
            "execution_count": null,
            "metadata": {
                "collapsed": true,
                "deletable": false,
                "editable": false,
                "nbgrader": {
                    "grade": true,
                    "grade_id": "4.08test1",
                    "locked": true,
                    "points": "1",
                    "solution": false
                }
            },
            "outputs": [],
            "source": [
                "###\n",
                "### AUTOGRADER TEST - DO NOT REMOVE\n",
                "###\n"
            ]
        },
        {
            "cell_type": "code",
            "execution_count": null,
            "metadata": {
                "collapsed": true,
                "deletable": false,
                "editable": false,
                "nbgrader": {
                    "grade": true,
                    "grade_id": "4.08test2",
                    "locked": true,
                    "points": "1",
                    "solution": false
                }
            },
            "outputs": [],
            "source": [
                "###\n",
                "### AUTOGRADER TEST - DO NOT REMOVE\n",
                "###\n"
            ]
        },
        {
            "cell_type": "code",
            "execution_count": null,
            "metadata": {
                "collapsed": true,
                "deletable": false,
                "editable": false,
                "nbgrader": {
                    "grade": true,
                    "grade_id": "4.08test3",
                    "locked": true,
                    "points": "1",
                    "solution": false
                }
            },
            "outputs": [],
            "source": [
                "###\n",
                "### AUTOGRADER TEST - DO NOT REMOVE\n",
                "###\n"
            ]
        },
        {
            "cell_type": "code",
            "execution_count": null,
            "metadata": {
                "collapsed": true,
                "deletable": false,
                "editable": false,
                "nbgrader": {
                    "grade": true,
                    "grade_id": "4.08test4",
                    "locked": true,
                    "points": "1",
                    "solution": false
                }
            },
            "outputs": [],
            "source": [
                "###\n",
                "### AUTOGRADER TEST - DO NOT REMOVE\n",
                "###\n"
            ]
        },
        {
            "cell_type": "markdown",
            "metadata": {
                "colab_type": "text",
                "deletable": false,
                "editable": false,
                "id": "PnZGoROcVxzM",
                "nbgrader": {
                    "grade": false,
                    "locked": true,
                    "solution": false
                }
            },
            "source": [
                "### Problem 4.09 ```get_base_counts(dna)```"
            ]
        },
        {
            "cell_type": "markdown",
            "metadata": {
                "colab_type": "text",
                "deletable": false,
                "editable": false,
                "id": "bszht8KzU-vR",
                "nbgrader": {
                    "grade": false,
                    "locked": true,
                    "solution": false
                }
            },
            "source": [
                "\n",
                "This function takes a DNA string as an input. As a DNA string,  it should contain only the letters ```A```, ```C```, ```G```, and ```T``` (upper case only). The DNA string will have length of at least one.\n",
                "\n",
                "The function returns the count of the number of times each of the four letters A, C, G, and T appear in the input string, in the form of a list. \n",
                "\n",
                "If the input string contains other letters the function will return an empty list. \n",
                "\n",
                "**NOTE** In Problem Set 5, there will be another version of this problem. Don't forget to save your solution for this problem set.\n",
                "\n",
                "```python\n",
                "result = get_base_counts('AACCCGT')\n",
                "print(result)\n",
                "result = get_base_counts('AACCG')\n",
                "print(result)\n",
                "result = get_base_counts('AAB')\n",
                "print(result)\n",
                "```\n",
                "\n",
                "```python \n",
                "[2, 3, 1, 1]\n",
                "[2, 2, 1, 0]\n",
                "[]\n",
                "```"
            ]
        },
        {
            "cell_type": "markdown",
            "metadata": {
                "deletable": false,
                "editable": false,
                "nbgrader": {
                    "grade": false,
                    "locked": true,
                    "solution": false
                }
            },
            "source": [
                "#### Your solution below:"
            ]
        },
        {
            "cell_type": "code",
            "execution_count": null,
            "metadata": {
                "collapsed": true
            },
            "outputs": [],
            "source": [
                "def get_base_counts(dna):\n",
                "    ###\n",
                "    ### YOUR CODE HERE\n",
                "    ###\n",
                "    pass\n",
                "        \n",
                "        "
            ]
        },
        {
            "cell_type": "code",
            "execution_count": null,
            "metadata": {
                "collapsed": true,
                "deletable": false,
                "editable": false,
                "nbgrader": {
                    "grade": true,
                    "grade_id": "4.09test1",
                    "locked": true,
                    "points": "1",
                    "solution": false
                }
            },
            "outputs": [],
            "source": [
                "###\n",
                "### AUTOGRADER TEST - DO NOT REMOVE\n",
                "###\n"
            ]
        },
        {
            "cell_type": "code",
            "execution_count": null,
            "metadata": {
                "collapsed": true,
                "deletable": false,
                "editable": false,
                "nbgrader": {
                    "grade": true,
                    "grade_id": "4.09test2",
                    "locked": true,
                    "points": "1",
                    "solution": false
                }
            },
            "outputs": [],
            "source": [
                "###\n",
                "### AUTOGRADER TEST - DO NOT REMOVE\n",
                "###\n"
            ]
        },
        {
            "cell_type": "code",
            "execution_count": null,
            "metadata": {
                "collapsed": true,
                "deletable": false,
                "editable": false,
                "nbgrader": {
                    "grade": true,
                    "grade_id": "4.09test3",
                    "locked": true,
                    "points": "1",
                    "solution": false
                }
            },
            "outputs": [],
            "source": [
                "###\n",
                "### AUTOGRADER TEST - DO NOT REMOVE\n",
                "###\n"
            ]
        },
        {
            "cell_type": "code",
            "execution_count": null,
            "metadata": {
                "collapsed": true,
                "deletable": false,
                "editable": false,
                "nbgrader": {
                    "grade": true,
                    "grade_id": "4.09test4",
                    "locked": true,
                    "points": "1",
                    "solution": false
                }
            },
            "outputs": [],
            "source": [
                "###\n",
                "### AUTOGRADER TEST - DO NOT REMOVE\n",
                "###\n"
            ]
        },
        {
            "cell_type": "code",
            "execution_count": null,
            "metadata": {
                "collapsed": true,
                "deletable": false,
                "editable": false,
                "nbgrader": {
                    "grade": true,
                    "grade_id": "4.09test5",
                    "locked": true,
                    "points": "1",
                    "solution": false
                }
            },
            "outputs": [],
            "source": [
                "###\n",
                "### AUTOGRADER TEST - DO NOT REMOVE\n",
                "###\n"
            ]
        }
    ],
    "metadata": {
        "colab": {
            "name": "Lesson 4.ipynb",
            "provenance": []
        },
        "kernelspec": {
            "display_name": "Python 3.10.8 64-bit (microsoft store)",
            "language": "python",
            "name": "python3"
        },
        "language_info": {
            "codemirror_mode": {
                "name": "ipython",
                "version": 3
            },
            "file_extension": ".py",
            "mimetype": "text/x-python",
            "name": "python",
            "nbconvert_exporter": "python",
            "pygments_lexer": "ipython3",
            "version": "3.10.8"
        },
        "vscode": {
            "interpreter": {
                "hash": "17c8fb7ea8e9d45081d742abc25b069eacce5eb6cc29dd1311a1165211326aa5"
            }
        }
    },
    "nbformat": 4,
    "nbformat_minor": 1
}
