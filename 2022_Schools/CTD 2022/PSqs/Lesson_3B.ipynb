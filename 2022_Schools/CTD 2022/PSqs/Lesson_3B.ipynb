{
    "cells": [
        {
            "cell_type": "markdown",
            "metadata": {
                "deletable": false,
                "editable": false,
                "nbgrader": {
                    "grade": false,
                    "locked": true,
                    "solution": false
                }
            },
            "source": [
                "### 10.014 Computational Thinking For Design, Fall 2022\n",
                "\n",
                "## Problem Set 3B (Lists)\n",
                "\n",
                "\n",
                "© Singapore University of Technology and Design, 2022"
            ]
        },
        {
            "cell_type": "markdown",
            "metadata": {
                "deletable": false,
                "editable": false,
                "nbgrader": {
                    "grade": false,
                    "locked": true,
                    "solution": false
                }
            },
            "source": [
                "### Lesson Materials For This Problem Set \n",
                "\n",
                "Materials for [Lesson 3](https://colab.research.google.com/drive/13ezp3QADyBlUbuHwjBDKaFDuRUaemsVE?usp=sharing)"
            ]
        },
        {
            "cell_type": "markdown",
            "metadata": {
                "colab_type": "text",
                "deletable": false,
                "editable": false,
                "id": "KWoyVZjZGbzv",
                "nbgrader": {
                    "grade": false,
                    "locked": true,
                    "solution": false
                }
            },
            "source": [
                "### Problem 3.10 ```median(ls)```"
            ]
        },
        {
            "cell_type": "markdown",
            "metadata": {
                "colab_type": "text",
                "deletable": false,
                "editable": false,
                "id": "W55M39YQrntO",
                "nbgrader": {
                    "grade": false,
                    "locked": true,
                    "solution": false
                }
            },
            "source": [
                "This function takes a list of integers ```ls``` that is unsorted. \n",
                "\n",
                "You may assume that ```ls``` has at least one element.\n",
                "\n",
                "This list of integers represents the test scores of students in a class. \n",
                "\n",
                "This function returns the median score. \n",
                "\n",
                "Recall that, for a sorted list of test scores: \n",
                "- if there is an odd number of elements,  the median value is the value in the middle.       \n",
                "- if there is an even number of elements, the median value is the average of the two values in the middle.      \n",
                "\n",
                "Recall also\n",
                "* executing the ```sort()``` method on ```ls``` will sort the list. \n",
                "* the division operator returns a float ```4/2``` gives ```2.0```, if you need an int value, you can use the ```int()``` function or the integer division operator ```//```\n",
                "\n",
                "---\n",
                "**Algorithm**\n",
                "\n",
                "Given a list ```ls``` of integers\n",
                "\n",
                "1. sort the elements of ```ls```\n",
                "\n",
                "2. ```n``` is the number of elements in ```ls```\n",
                "\n",
                "3. if ```n``` is odd, \n",
                "\n",
                "   a. the median is the element at ```(n - 1)/2```, else\n",
                "   \n",
                "   b. the median is the average of the elements at ```n/2``` and ```n/2 - 1```\n",
                "--- \n",
                "\n",
                "In the algorithm above, satisfy yourself that steps 3a and 3b will give you the median.\n",
                "\n",
                "Test cases: \n",
                "\n",
                "\n",
                "```python \n",
                "a = median([5, 7, 3, 8, 6])\n",
                "print(a)\n",
                "b = median([5, 7, 3, 8, 6, 9])\n",
                "print(b)\n",
                "```\n",
                "gives \n",
                "\n",
                "```python \n",
                "6\n",
                "6.5\n",
                "```\n",
                "\n",
                "\n",
                "\n"
            ]
        },
        {
            "cell_type": "markdown",
            "metadata": {
                "deletable": false,
                "editable": false,
                "nbgrader": {
                    "grade": false,
                    "locked": true,
                    "solution": false
                }
            },
            "source": [
                "#### Your solution here:\n",
                "Reminder: after writing your solution, don't forget to write code to execute the function and display its output"
            ]
        },
        {
            "cell_type": "code",
            "execution_count": null,
            "metadata": {
                "collapsed": true
            },
            "outputs": [],
            "source": [
                "def median(ls):\n",
                "    ###\n",
                "    ### YOUR CODE HERE\n",
                "    ###\n",
                "    pass \n",
                "\n"
            ]
        },
        {
            "cell_type": "markdown",
            "metadata": {
                "deletable": false,
                "editable": false,
                "nbgrader": {
                    "grade": false,
                    "locked": true,
                    "solution": false
                }
            },
            "source": [
                "#### Hidden test cases:"
            ]
        },
        {
            "cell_type": "code",
            "execution_count": null,
            "metadata": {
                "collapsed": true,
                "deletable": false,
                "editable": false,
                "nbgrader": {
                    "grade": true,
                    "grade_id": "3.10test1",
                    "locked": true,
                    "points": "1",
                    "solution": false
                }
            },
            "outputs": [],
            "source": [
                "###\n",
                "### AUTOGRADER TEST - DO NOT REMOVE\n",
                "###\n"
            ]
        },
        {
            "cell_type": "code",
            "execution_count": null,
            "metadata": {
                "collapsed": true,
                "deletable": false,
                "editable": false,
                "nbgrader": {
                    "grade": true,
                    "grade_id": "3.10test2",
                    "locked": true,
                    "points": "1",
                    "solution": false
                }
            },
            "outputs": [],
            "source": [
                "###\n",
                "### AUTOGRADER TEST - DO NOT REMOVE\n",
                "###\n"
            ]
        },
        {
            "cell_type": "code",
            "execution_count": null,
            "metadata": {
                "collapsed": true,
                "deletable": false,
                "editable": false,
                "nbgrader": {
                    "grade": true,
                    "grade_id": "3.10test3",
                    "locked": true,
                    "points": "1",
                    "solution": false
                }
            },
            "outputs": [],
            "source": [
                "###\n",
                "### AUTOGRADER TEST - DO NOT REMOVE\n",
                "###\n"
            ]
        },
        {
            "cell_type": "markdown",
            "metadata": {
                "colab_type": "text",
                "deletable": false,
                "editable": false,
                "id": "fkbEtKsdkGWe",
                "nbgrader": {
                    "grade": false,
                    "locked": true,
                    "solution": false
                }
            },
            "source": [
                "### Problem 3.11 ```middle_list(ls)```\n"
            ]
        },
        {
            "cell_type": "markdown",
            "metadata": {
                "colab_type": "text",
                "deletable": false,
                "editable": false,
                "id": "blZEtkzQQ-6J",
                "nbgrader": {
                    "grade": false,
                    "locked": true,
                    "solution": false
                }
            },
            "source": [
                "This function takes in a list ```ls```. \n",
                "\n",
                "You can assume that ```ls``` will have at least two elements. \n",
                "\n",
                "It returns a new list containing all but the first and last elements of ```ls```. \n",
                "\n",
                "Use list slicing in this question.\n",
                "\n",
                "```python \n",
                "a = middle_list([1,9])\n",
                "print(a)\n",
                "a = middle_list( [1,9,4] )\n",
                "print(a)\n",
                "```\n",
                "\n",
                "```python\n",
                "[]\n",
                "[9]\n",
                "```\n"
            ]
        },
        {
            "cell_type": "markdown",
            "metadata": {
                "deletable": false,
                "editable": false,
                "nbgrader": {
                    "grade": false,
                    "locked": true,
                    "solution": false
                }
            },
            "source": [
                "#### Your solution here: "
            ]
        },
        {
            "cell_type": "code",
            "execution_count": null,
            "metadata": {
                "collapsed": true
            },
            "outputs": [],
            "source": [
                "def middle_list(ls):\n",
                "    ###\n",
                "    ### YOUR CODE HERE\n",
                "    ###\n",
                "    pass"
            ]
        },
        {
            "cell_type": "code",
            "execution_count": null,
            "metadata": {
                "collapsed": true,
                "deletable": false,
                "editable": false,
                "nbgrader": {
                    "grade": true,
                    "grade_id": "3.11test1",
                    "locked": true,
                    "points": "1",
                    "solution": false
                }
            },
            "outputs": [],
            "source": [
                "###\n",
                "### AUTOGRADER TEST - DO NOT REMOVE\n",
                "###\n"
            ]
        },
        {
            "cell_type": "code",
            "execution_count": null,
            "metadata": {
                "collapsed": true,
                "deletable": false,
                "editable": false,
                "nbgrader": {
                    "grade": true,
                    "grade_id": "3.11test2",
                    "locked": true,
                    "points": "1",
                    "solution": false
                }
            },
            "outputs": [],
            "source": [
                "###\n",
                "### AUTOGRADER TEST - DO NOT REMOVE\n",
                "###\n"
            ]
        },
        {
            "cell_type": "code",
            "execution_count": null,
            "metadata": {
                "collapsed": true,
                "deletable": false,
                "editable": false,
                "nbgrader": {
                    "grade": true,
                    "grade_id": "3.11test3",
                    "locked": true,
                    "points": "1",
                    "solution": false
                }
            },
            "outputs": [],
            "source": [
                "###\n",
                "### AUTOGRADER TEST - DO NOT REMOVE\n",
                "###\n"
            ]
        },
        {
            "cell_type": "markdown",
            "metadata": {
                "deletable": false,
                "editable": false,
                "nbgrader": {
                    "grade": false,
                    "locked": true,
                    "solution": false
                }
            },
            "source": [
                "### Problem 3.12 ```swap_elements(ls, index1, index2)```"
            ]
        },
        {
            "cell_type": "markdown",
            "metadata": {
                "deletable": false,
                "editable": false,
                "nbgrader": {
                    "grade": false,
                    "locked": true,
                    "solution": false
                }
            },
            "source": [
                "This function takes in a list ```ls```.\n",
                "\n",
                "It swaps the list elements at indices ```index1``` and ```index2```.\n",
                "\n",
                "It does not modify the original list, but returns a new list.\n",
                "\n",
                "If ```index1``` or ```index2``` are integers that are outside of the valid indices in the list, return ```None```. Remember that list indices can be negative.  \n",
                "\n",
                "---\n",
                "\n",
                "**Algorithm**\n",
                "\n",
                "1. ```ls_copy``` is a copy of ```ls``` (using slicing). \n",
                "\n",
                "2. ```max_pos_index``` is the largest positive index for ```ls_copy```. \n",
                "\n",
                "3. if ```index1``` and ```index2``` are larger than ```max_pos_index```, return ```None```.\n",
                "\n",
                "4. Repeat steps 2 and 3 for the negative index, using a similar idea. \n",
                "\n",
                "5. swap the elements of ```ls_copy``` at ```index1``` and ```index2```. \n",
                "\n",
                "6. return ```ls_copy```.\n",
                "\n",
                "---\n",
                "\n",
                "\n",
                "```python\n",
                "ls = [3, 6, 8, 7]\n",
                "newls1 = swap_elements(ls, 2, 3)\n",
                "print(newls1)\n",
                "print(newls1 is ls)\n",
                "newls2 = swap_elements(ls, -3, -1)\n",
                "print(newls2)\n",
                "result = swap_elements(ls, 3, 4)\n",
                "print(result)\n",
                "```\n",
                "\n",
                "```python\n",
                "[3, 6, 7, 8]\n",
                "False\n",
                "[3, 7, 8, 6]\n",
                "None\n",
                "```\n"
            ]
        },
        {
            "cell_type": "markdown",
            "metadata": {
                "deletable": false,
                "editable": false,
                "nbgrader": {
                    "grade": false,
                    "locked": true,
                    "solution": false
                }
            },
            "source": [
                "#### Your solution below: "
            ]
        },
        {
            "cell_type": "code",
            "execution_count": null,
            "metadata": {
                "collapsed": true,
                "nbgrader": {
                    "grade": false,
                    "grade_id": "3.12test1",
                    "locked": false,
                    "points": "1",
                    "solution": false
                }
            },
            "outputs": [],
            "source": [
                "def swap_elements(ls, index1, index2):\n",
                "    ###\n",
                "    ### YOUR CODE HERE\n",
                "    ###\n",
                "    pass\n"
            ]
        },
        {
            "cell_type": "code",
            "execution_count": null,
            "metadata": {
                "collapsed": true,
                "deletable": false,
                "editable": false,
                "nbgrader": {
                    "grade": true,
                    "grade_id": "3.12test1",
                    "locked": true,
                    "points": "1",
                    "solution": false
                }
            },
            "outputs": [],
            "source": [
                "###\n",
                "### AUTOGRADER TEST - DO NOT REMOVE\n",
                "###\n"
            ]
        },
        {
            "cell_type": "code",
            "execution_count": null,
            "metadata": {
                "collapsed": true,
                "deletable": false,
                "editable": false,
                "nbgrader": {
                    "grade": true,
                    "grade_id": "3.12test2",
                    "locked": true,
                    "points": "1",
                    "solution": false
                }
            },
            "outputs": [],
            "source": [
                "###\n",
                "### AUTOGRADER TEST - DO NOT REMOVE\n",
                "###\n"
            ]
        },
        {
            "cell_type": "code",
            "execution_count": null,
            "metadata": {
                "collapsed": true,
                "deletable": false,
                "editable": false,
                "nbgrader": {
                    "grade": true,
                    "grade_id": "3.12test3",
                    "locked": true,
                    "points": "1",
                    "solution": false
                }
            },
            "outputs": [],
            "source": [
                "###\n",
                "### AUTOGRADER TEST - DO NOT REMOVE\n",
                "###\n"
            ]
        },
        {
            "cell_type": "code",
            "execution_count": null,
            "metadata": {
                "collapsed": true,
                "deletable": false,
                "editable": false,
                "nbgrader": {
                    "grade": true,
                    "grade_id": "3.12test4",
                    "locked": true,
                    "points": "1",
                    "solution": false
                }
            },
            "outputs": [],
            "source": [
                "###\n",
                "### AUTOGRADER TEST - DO NOT REMOVE\n",
                "###\n"
            ]
        },
        {
            "cell_type": "code",
            "execution_count": null,
            "metadata": {
                "collapsed": true,
                "deletable": false,
                "editable": false,
                "nbgrader": {
                    "grade": true,
                    "grade_id": "3.12test5",
                    "locked": true,
                    "points": "1",
                    "solution": false
                }
            },
            "outputs": [],
            "source": [
                "###\n",
                "### AUTOGRADER TEST - DO NOT REMOVE\n",
                "###\n"
            ]
        },
        {
            "cell_type": "markdown",
            "metadata": {
                "colab_type": "text",
                "deletable": false,
                "editable": false,
                "id": "fUQeEWNgGuy6",
                "nbgrader": {
                    "grade": false,
                    "locked": true,
                    "solution": false
                }
            },
            "source": [
                "### Problem 3.13 ```sum_odd_numbers(ls)```\n",
                "\n"
            ]
        },
        {
            "cell_type": "markdown",
            "metadata": {
                "colab_type": "text",
                "deletable": false,
                "editable": false,
                "id": "JgXrgK_WksZJ",
                "nbgrader": {
                    "grade": false,
                    "locked": true,
                    "solution": false
                }
            },
            "source": [
                "The function takes in a list ```ls```. \n",
                "\n",
                "```ls``` contains only numeric datatypes. \n",
                "\n",
                "The elements in ```ls``` are not sorted in any order. \n",
                "\n",
                "The function returns the sum of the positive odd numbers in the list.\n",
                "\n",
                "If there are no positive odd numbers in the list, the function returns 0. \n",
                "\n",
                "---\n",
                "\n",
                "**Algorithm**\n",
                "\n",
                "1. initialize ```total``` to 0\n",
                "\n",
                "2. for every element in ```ls```\n",
                "\n",
                "   a. if the element is a positive odd number, add it to ```total```\n",
                "   \n",
                "   b. else, do nothing \n",
                "   \n",
                "3. return ```total```\n",
                "\n",
                "----\n",
                "\n",
                "\n",
                "**Test Cases**\n",
                "```python\n",
                "a = sum_odd_numbers( [1, 2, 3] )\n",
                "print(a)\n",
                "b = sum_odd_numbers( [43, 30, 27, -3] )\n",
                "print(b)\n",
                "```\n",
                "\n",
                "```python\n",
                "4\n",
                "70\n",
                "```\n",
                "\n"
            ]
        },
        {
            "cell_type": "markdown",
            "metadata": {
                "deletable": false,
                "editable": false,
                "nbgrader": {
                    "grade": false,
                    "locked": true,
                    "solution": false
                }
            },
            "source": [
                "#### Your solution here"
            ]
        },
        {
            "cell_type": "code",
            "execution_count": null,
            "metadata": {
                "collapsed": true
            },
            "outputs": [],
            "source": [
                "def sum_odd_numbers(ls):\n",
                "    ###\n",
                "    ### YOUR CODE HERE\n",
                "    ###\n",
                "    pass"
            ]
        },
        {
            "cell_type": "markdown",
            "metadata": {
                "deletable": false,
                "editable": false,
                "nbgrader": {
                    "grade": false,
                    "locked": true,
                    "solution": false
                }
            },
            "source": [
                "#### Hidden test cases:"
            ]
        },
        {
            "cell_type": "code",
            "execution_count": null,
            "metadata": {
                "collapsed": true,
                "deletable": false,
                "editable": false,
                "nbgrader": {
                    "grade": true,
                    "grade_id": "3.13test1",
                    "locked": true,
                    "points": "1",
                    "solution": false
                }
            },
            "outputs": [],
            "source": [
                "###\n",
                "### AUTOGRADER TEST - DO NOT REMOVE\n",
                "###\n"
            ]
        },
        {
            "cell_type": "code",
            "execution_count": null,
            "metadata": {
                "collapsed": true,
                "deletable": false,
                "editable": false,
                "nbgrader": {
                    "grade": true,
                    "grade_id": "3.13test2",
                    "locked": true,
                    "points": "1",
                    "solution": false
                }
            },
            "outputs": [],
            "source": [
                "###\n",
                "### AUTOGRADER TEST - DO NOT REMOVE\n",
                "###\n"
            ]
        },
        {
            "cell_type": "markdown",
            "metadata": {
                "colab_type": "text",
                "deletable": false,
                "editable": false,
                "id": "mpPPwbsAGOZ6",
                "nbgrader": {
                    "grade": false,
                    "locked": true,
                    "solution": false
                }
            },
            "source": [
                "### Problem 3.14 ```hailstone(n)```"
            ]
        },
        {
            "cell_type": "markdown",
            "metadata": {
                "colab_type": "text",
                "deletable": false,
                "editable": false,
                "id": "355Khxv1_JOh",
                "nbgrader": {
                    "grade": false,
                    "locked": true,
                    "solution": false
                }
            },
            "source": [
                "This function takes in the value of ```n```, which is a positive integer. \n",
                "\n",
                "It returns a list containing the values in the hailstone sequence. \n",
                "\n",
                "The algorithm for the hailstone sequence is as follows. \n",
                "\n",
                "---\n",
                "> #### Algorithm \n",
                ">\n",
                "> 1. While $n$ is an integer larger than 1,        \n",
                ">    a. if ```n``` is even, assign the result of ```n/2``` to ```n```.\n",
                ">    \n",
                ">    b. if ```n``` is odd, assign the result of ```3n + 1``` to ```n```.  \n",
                "\n",
                "---\n",
                "\n",
                "So suppose you choose $n = 4$. Then:\n",
                "- The while condition at step 1. is ```true```\n",
                "- By applying step 1a., the value of n is updated to 2. \n",
                "- The while condition at 1. is ```true``` again. \n",
                "- By applying step 1a, the value of n is updated to 1. \n",
                "- The while condition at step 1. now is ```false```. \n",
                "\n",
                "The hailstone sequence thus ends. You just need to return the list that contains the values. \n",
                "\n",
                "The following are two test cases. \n",
                "\n",
                "```python\n",
                "sequence = hailstone(4)\n",
                "print(sequence)\n",
                "sequence = hailstone(5)\n",
                "print(sequence)\n",
                "```\n",
                "\n",
                "```\n",
                "[4, 2, 1]\n",
                "[5, 16, 8, 4 , 2, 1]\n",
                "```\n",
                "\n",
                "\n",
                "To this day, it has not been proved that this algorithm will terminate given any positiven integer input. This problem is known as the Collatz conjecture. "
            ]
        },
        {
            "cell_type": "markdown",
            "metadata": {},
            "source": [
                "#### Your solution here: "
            ]
        },
        {
            "cell_type": "code",
            "execution_count": null,
            "metadata": {
                "collapsed": true
            },
            "outputs": [],
            "source": [
                "def hailstone(n):\n",
                "    ###\n",
                "    ### YOUR CODE HERE\n",
                "    ###\n",
                "    pass\n",
                "    "
            ]
        },
        {
            "cell_type": "code",
            "execution_count": null,
            "metadata": {
                "collapsed": true,
                "deletable": false,
                "editable": false,
                "nbgrader": {
                    "grade": true,
                    "grade_id": "3.14test1",
                    "locked": true,
                    "points": "1",
                    "solution": false
                }
            },
            "outputs": [],
            "source": [
                "###\n",
                "### AUTOGRADER TEST - DO NOT REMOVE\n",
                "###\n"
            ]
        },
        {
            "cell_type": "code",
            "execution_count": null,
            "metadata": {
                "collapsed": true,
                "deletable": false,
                "editable": false,
                "nbgrader": {
                    "grade": true,
                    "grade_id": "3.14test2",
                    "locked": true,
                    "points": "1",
                    "solution": false
                }
            },
            "outputs": [],
            "source": [
                "###\n",
                "### AUTOGRADER TEST - DO NOT REMOVE\n",
                "###\n"
            ]
        },
        {
            "cell_type": "code",
            "execution_count": null,
            "metadata": {
                "collapsed": true,
                "deletable": false,
                "editable": false,
                "nbgrader": {
                    "grade": true,
                    "grade_id": "3.14test3",
                    "locked": true,
                    "points": "1",
                    "solution": false
                }
            },
            "outputs": [],
            "source": [
                "###\n",
                "### AUTOGRADER TEST - DO NOT REMOVE\n",
                "###\n"
            ]
        },
        {
            "cell_type": "markdown",
            "metadata": {
                "colab_type": "text",
                "deletable": false,
                "editable": false,
                "id": "ZsayV4Ga6JoB",
                "nbgrader": {
                    "grade": false,
                    "locked": true,
                    "solution": false
                }
            },
            "source": [
                "### Problem 3.15 ```get_odd_numbers(ls)```"
            ]
        },
        {
            "cell_type": "markdown",
            "metadata": {
                "colab_type": "text",
                "deletable": false,
                "editable": false,
                "id": "Hb69TTQAloAk",
                "nbgrader": {
                    "grade": false,
                    "locked": true,
                    "solution": false
                }
            },
            "source": [
                "\n",
                "The function takes in a list ```ls```. \n",
                "\n",
                "```ls``` contains only numeric datatypes. \n",
                "\n",
                "The elements in ```ls``` are not sorted in any order. \n",
                "\n",
                "The function returns a new list containing only the odd numbers in ```ls```, sorted from smallest to largest.  \n",
                "\n",
                "If ```ls``` does not have any odd numbers, an empty list is returned.\n",
                "\n",
                "\n",
                "```python\n",
                "a = get_odd_numbers( [3, 2, 1] )\n",
                "print(a)\n",
                "b = get_odd_numbers( [43, 30, 27, -3] )\n",
                "print(b)\n",
                "```\n",
                "\n",
                "```python\n",
                "[1, 3]\n",
                "[-3, 27, 43]\n",
                "```\n",
                "\n"
            ]
        },
        {
            "cell_type": "markdown",
            "metadata": {
                "deletable": false,
                "editable": false,
                "nbgrader": {
                    "grade": false,
                    "locked": true,
                    "solution": false
                }
            },
            "source": [
                "#### your solution here"
            ]
        },
        {
            "cell_type": "code",
            "execution_count": null,
            "metadata": {
                "collapsed": true
            },
            "outputs": [],
            "source": [
                "def get_odd_numbers(ls):\n",
                "    ###\n",
                "    ### YOUR CODE HERE\n",
                "    ###\n",
                "    pass\n"
            ]
        },
        {
            "cell_type": "code",
            "execution_count": null,
            "metadata": {
                "collapsed": true,
                "deletable": false,
                "editable": false,
                "nbgrader": {
                    "grade": true,
                    "grade_id": "3.15test1",
                    "locked": true,
                    "points": "1",
                    "solution": false
                }
            },
            "outputs": [],
            "source": [
                "###\n",
                "### AUTOGRADER TEST - DO NOT REMOVE\n",
                "###\n"
            ]
        },
        {
            "cell_type": "code",
            "execution_count": null,
            "metadata": {
                "collapsed": true,
                "deletable": false,
                "editable": false,
                "nbgrader": {
                    "grade": true,
                    "grade_id": "3.15test2",
                    "locked": true,
                    "points": "1",
                    "solution": false
                }
            },
            "outputs": [],
            "source": [
                "###\n",
                "### AUTOGRADER TEST - DO NOT REMOVE\n",
                "###\n"
            ]
        },
        {
            "cell_type": "code",
            "execution_count": null,
            "metadata": {
                "collapsed": true,
                "deletable": false,
                "editable": false,
                "nbgrader": {
                    "grade": true,
                    "grade_id": "3.15test3",
                    "locked": true,
                    "points": "1",
                    "solution": false
                }
            },
            "outputs": [],
            "source": [
                "###\n",
                "### AUTOGRADER TEST - DO NOT REMOVE\n",
                "###\n"
            ]
        },
        {
            "cell_type": "code",
            "execution_count": null,
            "metadata": {
                "collapsed": true,
                "deletable": false,
                "editable": false,
                "nbgrader": {
                    "grade": true,
                    "grade_id": "3.15test4",
                    "locked": true,
                    "points": "1",
                    "solution": false
                }
            },
            "outputs": [],
            "source": [
                "###\n",
                "### AUTOGRADER TEST - DO NOT REMOVE\n",
                "###\n"
            ]
        },
        {
            "cell_type": "markdown",
            "metadata": {
                "deletable": false,
                "editable": false,
                "nbgrader": {
                    "grade": false,
                    "locked": true,
                    "solution": false
                }
            },
            "source": [
                "### Problem 3.16 ```moving_average(ls)```"
            ]
        },
        {
            "cell_type": "markdown",
            "metadata": {
                "deletable": false,
                "editable": false,
                "nbgrader": {
                    "grade": false,
                    "locked": true,
                    "solution": false
                }
            },
            "source": [
                "This function takes in a list ```ls``` containing daily sales data for a shop. \n",
                "\n",
                "You can assume that ```ls``` has at least 3 elements. \n",
                "\n",
                "This function returns a list that contains the 3-day moving average. The elements in the list are rounded to one decimal place. \n",
                "\n",
                "The 3-day moving average on day 2 is the average of the sales on days 0 - 2, the 3-day moving average on day 3 is the average of the sales on days 1 - 3 and so on. \n",
                "\n",
                "Of course, the 3-day moving average cannot be calculated for day 0 and day 1. \n",
                "\n",
                "```python\n",
                "data = [30.0, 20.0, 40.0, 50.0, 25.0, 70.0]\n",
                "ma = moving_average(data)\n",
                "print(ma)\n",
                "```\n",
                "gives\n",
                "```python\n",
                "[30.0, 36.7, 38.3, 48.3]\n",
                "```\n",
                "\n",
                "---\n",
                "> #### HINT\n",
                ">\n",
                "> The built-in function ```sum()``` will be useful. \n",
                ">\n",
                "\n",
                "---\n"
            ]
        },
        {
            "cell_type": "code",
            "execution_count": null,
            "metadata": {
                "collapsed": true,
                "nbgrader": {
                    "grade": false,
                    "grade_id": "3.16test1",
                    "locked": false,
                    "points": "1",
                    "solution": false
                }
            },
            "outputs": [],
            "source": [
                "def moving_average(ls):\n",
                "    ###\n",
                "    ### YOUR CODE HERE\n",
                "    ###\n",
                "    pass\n",
                "    "
            ]
        },
        {
            "cell_type": "code",
            "execution_count": null,
            "metadata": {
                "collapsed": true,
                "deletable": false,
                "editable": false,
                "nbgrader": {
                    "grade": true,
                    "grade_id": "3.16test1",
                    "locked": true,
                    "points": "1",
                    "solution": false
                }
            },
            "outputs": [],
            "source": [
                "###\n",
                "### AUTOGRADER TEST - DO NOT REMOVE\n",
                "###\n"
            ]
        },
        {
            "cell_type": "code",
            "execution_count": null,
            "metadata": {
                "collapsed": true,
                "deletable": false,
                "editable": false,
                "nbgrader": {
                    "grade": true,
                    "grade_id": "3.16test2",
                    "locked": true,
                    "points": "1",
                    "solution": false
                }
            },
            "outputs": [],
            "source": [
                "###\n",
                "### AUTOGRADER TEST - DO NOT REMOVE\n",
                "###\n"
            ]
        },
        {
            "cell_type": "markdown",
            "metadata": {
                "colab_type": "text",
                "deletable": false,
                "editable": false,
                "id": "-qq2gzW46u1h",
                "nbgrader": {
                    "grade": false,
                    "locked": true,
                    "solution": false
                }
            },
            "source": [
                "### Problem 3.17 ```trapezoidal_rule( f , dx)```"
            ]
        },
        {
            "cell_type": "markdown",
            "metadata": {
                "colab_type": "text",
                "deletable": false,
                "editable": false,
                "id": "4FpEd6wutVL4",
                "nbgrader": {
                    "grade": false,
                    "locked": true,
                    "solution": false
                }
            },
            "source": [
                "This function implements the trapezoidal rule, which is \n",
                "\n",
                "\\begin{equation}\n",
                "A = \\frac{1}{2} \\Delta x \\left[ y_0 + 2y_1 + 2y_2 + \\ldots + 2y_{n-1} + y_n  \\right] \n",
                "\\end{equation}\n",
                "\n",
                "```f``` is a list containing the y-values, which can be assumed to be generated by x-values uniformly spaced apart. \n",
                "\n",
                "```dx``` is the interval between the x-values. \n",
                "\n",
                "There is no need to round the returned value. \n",
                "\n",
                "If ```f``` contains one element or less, return 0 (since there is no area under the graph). \n",
                "\n",
                "You may assume that ```f``` and ```dx``` contain only numeric data.\n",
                "\n",
                "Only one test case is provided below. You should come up with your own test case e.g. where ```f``` is a list of float values. \n",
                "\n",
                "\n",
                "Test Case: \n",
                "\n",
                "```python\n",
                "f = [ 3, 7, 11, 9 , 3 ]\n",
                "dx = 2\n",
                "area = trapezoidal_rule(f , dx)\n",
                "print(area)\n",
                "```\n",
                "\n",
                "Output: \n",
                "\n",
                "```\n",
                "60\n",
                "```\n"
            ]
        },
        {
            "cell_type": "markdown",
            "metadata": {
                "deletable": false,
                "editable": false,
                "nbgrader": {
                    "grade": false,
                    "locked": true,
                    "solution": false
                }
            },
            "source": [
                "#### Your solution here: "
            ]
        },
        {
            "cell_type": "code",
            "execution_count": null,
            "metadata": {
                "collapsed": true,
                "nbgrader": {
                    "grade": false,
                    "grade_id": "3.17test1",
                    "locked": false,
                    "points": "1",
                    "solution": false
                }
            },
            "outputs": [],
            "source": [
                "def trapezoidal_rule(f, dx):\n",
                "    ###\n",
                "    ### YOUR CODE HERE\n",
                "    ###\n",
                "    pass \n"
            ]
        },
        {
            "cell_type": "code",
            "execution_count": null,
            "metadata": {
                "collapsed": true,
                "deletable": false,
                "editable": false,
                "nbgrader": {
                    "grade": true,
                    "grade_id": "3.17test1",
                    "locked": true,
                    "points": "1",
                    "solution": false
                }
            },
            "outputs": [],
            "source": [
                "###\n",
                "### AUTOGRADER TEST - DO NOT REMOVE\n",
                "###\n"
            ]
        },
        {
            "cell_type": "code",
            "execution_count": null,
            "metadata": {
                "collapsed": true,
                "deletable": false,
                "editable": false,
                "nbgrader": {
                    "grade": true,
                    "grade_id": "3.17test2",
                    "locked": true,
                    "points": "1",
                    "solution": false
                }
            },
            "outputs": [],
            "source": [
                "###\n",
                "### AUTOGRADER TEST - DO NOT REMOVE\n",
                "###\n"
            ]
        },
        {
            "cell_type": "code",
            "execution_count": null,
            "metadata": {
                "collapsed": true,
                "deletable": false,
                "editable": false,
                "nbgrader": {
                    "grade": true,
                    "grade_id": "3.17test3",
                    "locked": true,
                    "points": "1",
                    "solution": false
                }
            },
            "outputs": [],
            "source": [
                "###\n",
                "### AUTOGRADER TEST - DO NOT REMOVE\n",
                "###\n"
            ]
        },
        {
            "cell_type": "code",
            "execution_count": null,
            "metadata": {
                "collapsed": true,
                "deletable": false,
                "editable": false,
                "nbgrader": {
                    "grade": true,
                    "grade_id": "3.17test4",
                    "locked": true,
                    "points": "1",
                    "solution": false
                }
            },
            "outputs": [],
            "source": [
                "###\n",
                "### AUTOGRADER TEST - DO NOT REMOVE\n",
                "###\n"
            ]
        },
        {
            "cell_type": "markdown",
            "metadata": {
                "colab_type": "text",
                "deletable": false,
                "editable": false,
                "id": "3ot1V7ck65UH",
                "nbgrader": {
                    "grade": false,
                    "locked": true,
                    "solution": false
                }
            },
            "source": [
                "### Problem 3.18  ```left_riemann_sum(x,y)```"
            ]
        },
        {
            "cell_type": "markdown",
            "metadata": {
                "colab_type": "text",
                "deletable": false,
                "editable": false,
                "id": "hwjF46rw8t8B",
                "nbgrader": {
                    "grade": false,
                    "locked": true,
                    "solution": false
                }
            },
            "source": [
                "This function takes two lists that describes a mathematical function $f$. \n",
                "\n",
                "```x``` is a list of x-values (i.e. the domain of $f$).\n",
                "\n",
                "```y``` is a list of corresponding y-values (i.e. the range of $f$). \n",
                "\n",
                "You may assume that both ```x``` and ```y``` have the same length and contain only numeric datatypes.\n",
                "\n",
                "This function returns the **left Riemann sum** of the area under the graph. \n",
                "\n",
                "It is not necessary to round the return value. \n",
                "\n",
                "If ```x``` and ```y``` each have one element or less, then return 0. \n",
                "\n",
                "```python\n",
                "x = [0, 2, 3, 5, 6]\n",
                "y = [1, 1.5, 1.7, 1.9, 2.0]\n",
                "s = left_riemann_sum(x,y)\n",
                "print(s)\n",
                "```\n",
                "\n",
                "```\n",
                "8.8\n",
                "```\n",
                "\n",
                "\n"
            ]
        },
        {
            "cell_type": "markdown",
            "metadata": {
                "deletable": false,
                "editable": false,
                "nbgrader": {
                    "grade": false,
                    "locked": true,
                    "solution": false
                }
            },
            "source": [
                "#### Your solution here:"
            ]
        },
        {
            "cell_type": "code",
            "execution_count": null,
            "metadata": {
                "collapsed": true,
                "nbgrader": {
                    "grade": false,
                    "grade_id": "3.18test1",
                    "locked": false,
                    "points": "1",
                    "solution": false
                }
            },
            "outputs": [],
            "source": [
                "def left_riemann_sum(x,y):\n",
                "    ###\n",
                "    ### YOUR CODE HERE\n",
                "    ###\n",
                "    pass"
            ]
        },
        {
            "cell_type": "code",
            "execution_count": null,
            "metadata": {
                "collapsed": true,
                "deletable": false,
                "editable": false,
                "nbgrader": {
                    "grade": true,
                    "grade_id": "3.18test1",
                    "locked": true,
                    "points": "1",
                    "solution": false
                }
            },
            "outputs": [],
            "source": [
                "###\n",
                "### AUTOGRADER TEST - DO NOT REMOVE\n",
                "###\n"
            ]
        },
        {
            "cell_type": "code",
            "execution_count": null,
            "metadata": {
                "collapsed": true,
                "deletable": false,
                "editable": false,
                "nbgrader": {
                    "grade": true,
                    "grade_id": "3.18test2",
                    "locked": true,
                    "points": "1",
                    "solution": false
                }
            },
            "outputs": [],
            "source": [
                "###\n",
                "### AUTOGRADER TEST - DO NOT REMOVE\n",
                "###\n"
            ]
        },
        {
            "cell_type": "code",
            "execution_count": null,
            "metadata": {
                "collapsed": true,
                "deletable": false,
                "editable": false,
                "nbgrader": {
                    "grade": true,
                    "grade_id": "3.18test3",
                    "locked": true,
                    "points": "1",
                    "solution": false
                }
            },
            "outputs": [],
            "source": [
                "###\n",
                "### AUTOGRADER TEST - DO NOT REMOVE\n",
                "###\n"
            ]
        }
    ],
    "metadata": {
        "colab": {
            "name": "Lesson 3.ipynb",
            "provenance": []
        },
        "kernelspec": {
            "display_name": "Python 3.10.8 64-bit (microsoft store)",
            "language": "python",
            "name": "python3"
        },
        "language_info": {
            "codemirror_mode": {
                "name": "ipython",
                "version": 3
            },
            "file_extension": ".py",
            "mimetype": "text/x-python",
            "name": "python",
            "nbconvert_exporter": "python",
            "pygments_lexer": "ipython3",
            "version": "3.10.8"
        },
        "vscode": {
            "interpreter": {
                "hash": "17c8fb7ea8e9d45081d742abc25b069eacce5eb6cc29dd1311a1165211326aa5"
            }
        }
    },
    "nbformat": 4,
    "nbformat_minor": 1
}
