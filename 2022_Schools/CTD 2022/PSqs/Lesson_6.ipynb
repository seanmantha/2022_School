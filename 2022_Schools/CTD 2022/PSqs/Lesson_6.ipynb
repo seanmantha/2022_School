{
    "cells": [
        {
            "cell_type": "markdown",
            "metadata": {
                "colab_type": "text",
                "deletable": false,
                "editable": false,
                "id": "J_cLQuljKEaA",
                "nbgrader": {
                    "grade": false,
                    "locked": true,
                    "solution": false
                }
            },
            "source": [
                "### 10.014 Computational Thinking For Design, Fall 2022\n",
                "\n",
                "## Problem Set 6\n",
                "\n",
                "© Singapore University of Technology and Design, 2022\n"
            ]
        },
        {
            "cell_type": "markdown",
            "metadata": {
                "deletable": false,
                "editable": false,
                "nbgrader": {
                    "grade": false,
                    "locked": true,
                    "solution": false
                }
            },
            "source": [
                "### Lesson Materials For This Problem Set \n",
                "\n",
                "Materials for [Lesson 6](https://colab.research.google.com/drive/1e0LYF6nGjzs5q0pnn8YgLnYUeq2lFBWB?usp=sharing)"
            ]
        },
        {
            "cell_type": "markdown",
            "metadata": {
                "deletable": false,
                "editable": false,
                "nbgrader": {
                    "grade": false,
                    "locked": true,
                    "solution": false
                }
            },
            "source": [
                "### Problem 6.01 ```get_average_sublist(ls, n)```"
            ]
        },
        {
            "cell_type": "markdown",
            "metadata": {
                "deletable": false,
                "editable": false,
                "nbgrader": {
                    "grade": false,
                    "locked": true,
                    "solution": false
                }
            },
            "source": [
                "This function takes in a list of lists as an input. \n",
                "\n",
                "The nested lists or sublists contain integers. \n",
                "\n",
                "This function returns the average of the elements in the sublist at index ```n```.\n",
                "\n",
                "The value returned must be rounded to one decimal place using the ```round()``` function. \n",
                "\n",
                "If ```n``` is out of bounds, return ```None```. Recall that list indices can be negative. \n",
                "\n",
                "To avoid any doubt, you may use built-in functions in this question.  \n",
                "```python\n",
                "a = [ [10, 12], [36, 40, 52], [10, 16, 17] ] \n",
                "print( get_average_sublist( a, 1) )\n",
                "print( get_average_sublist( a, 3) )\n",
                "```\n",
                "\n",
                "```python\n",
                "42.7\n",
                "None\n",
                "```"
            ]
        },
        {
            "cell_type": "code",
            "execution_count": null,
            "metadata": {
                "collapsed": true
            },
            "outputs": [],
            "source": [
                "def get_average_sublist(ls,n): \n",
                "    ###\n",
                "    ### YOUR CODE HERE\n",
                "    ###\n",
                "    pass "
            ]
        },
        {
            "cell_type": "code",
            "execution_count": null,
            "metadata": {
                "collapsed": true,
                "deletable": false,
                "editable": false,
                "nbgrader": {
                    "grade": true,
                    "grade_id": "6.01test1",
                    "locked": true,
                    "points": "1",
                    "solution": false
                }
            },
            "outputs": [],
            "source": [
                "###\n",
                "### AUTOGRADER TEST - DO NOT REMOVE\n",
                "###\n"
            ]
        },
        {
            "cell_type": "code",
            "execution_count": null,
            "metadata": {
                "collapsed": true,
                "deletable": false,
                "editable": false,
                "nbgrader": {
                    "grade": true,
                    "grade_id": "6.01test2",
                    "locked": true,
                    "points": "1",
                    "solution": false
                }
            },
            "outputs": [],
            "source": [
                "###\n",
                "### AUTOGRADER TEST - DO NOT REMOVE\n",
                "###\n"
            ]
        },
        {
            "cell_type": "code",
            "execution_count": null,
            "metadata": {
                "collapsed": true,
                "deletable": false,
                "editable": false,
                "nbgrader": {
                    "grade": true,
                    "grade_id": "6.01test3",
                    "locked": true,
                    "points": "1",
                    "solution": false
                }
            },
            "outputs": [],
            "source": [
                "###\n",
                "### AUTOGRADER TEST - DO NOT REMOVE\n",
                "###\n"
            ]
        },
        {
            "cell_type": "code",
            "execution_count": null,
            "metadata": {
                "collapsed": true,
                "deletable": false,
                "editable": false,
                "nbgrader": {
                    "grade": true,
                    "grade_id": "6.01test4",
                    "locked": true,
                    "points": "1",
                    "solution": false
                }
            },
            "outputs": [],
            "source": [
                "###\n",
                "### AUTOGRADER TEST - DO NOT REMOVE\n",
                "###\n"
            ]
        },
        {
            "cell_type": "markdown",
            "metadata": {
                "deletable": false,
                "editable": false,
                "nbgrader": {
                    "grade": false,
                    "locked": true,
                    "solution": false
                }
            },
            "source": [
                "### Problem 6.02 ```has_list(ls)```"
            ]
        },
        {
            "cell_type": "markdown",
            "metadata": {
                "deletable": false,
                "editable": false,
                "nbgrader": {
                    "grade": false,
                    "locked": true,
                    "solution": false
                }
            },
            "source": [
                "This function takes in a list ```ls``` as an input. \n",
                "\n",
                "If any element in ```ls``` is a list, this function returns ```True```, otherwise ```False```. \n",
                "\n",
                "---\n",
                "> **NOTE**\n",
                ">\n",
                "> You can execute the built-in function ```isinstance()``` in the following way: ```isinstance(a,list)```.\n",
                ">\n",
                "> ```True``` is returned if object ```a``` is a ```list``` and ```False``` otherwise.\n",
                "> \n",
                "---\n",
                "\n",
                "\n",
                "```python\n",
                "a = [10, 20, [30, 40] , 'apple' ]\n",
                "print(has_list(a))\n",
                "b = [10, 20, 30, 40 , 'apple' ]\n",
                "print(has_list(b))\n",
                "```\n",
                "\n",
                "```python\n",
                "True\n",
                "False\n",
                "```\n",
                "\n",
                "---\n",
                "\n",
                "> #### Hint \n",
                "> You would have to loop through the elements of the list. \n",
                "> Hence, consider very carefully the point at which your function returns ```False```.\n",
                ">\n",
                "> The algorithm is similar to the one used for checking if a number is prime or not in an earlier problem set. \n",
                "\n",
                "---"
            ]
        },
        {
            "cell_type": "code",
            "execution_count": null,
            "metadata": {
                "collapsed": true
            },
            "outputs": [],
            "source": [
                "def has_list(ls):\n",
                "    for element in ls:\n",
                "        pass \n",
                "    ###\n",
                "    ### YOUR CODE HERE\n",
                "    ###\n"
            ]
        },
        {
            "cell_type": "code",
            "execution_count": null,
            "metadata": {
                "collapsed": true,
                "deletable": false,
                "editable": false,
                "nbgrader": {
                    "grade": true,
                    "grade_id": "6.02test1",
                    "locked": true,
                    "points": "1",
                    "solution": false
                }
            },
            "outputs": [],
            "source": [
                "###\n",
                "### AUTOGRADER TEST - DO NOT REMOVE\n",
                "###\n",
                "\n"
            ]
        },
        {
            "cell_type": "code",
            "execution_count": null,
            "metadata": {
                "collapsed": true,
                "deletable": false,
                "editable": false,
                "nbgrader": {
                    "grade": true,
                    "grade_id": "6.02test2",
                    "locked": true,
                    "points": "1",
                    "solution": false
                }
            },
            "outputs": [],
            "source": [
                "###\n",
                "### AUTOGRADER TEST - DO NOT REMOVE\n",
                "###\n"
            ]
        },
        {
            "cell_type": "code",
            "execution_count": null,
            "metadata": {
                "collapsed": true,
                "deletable": false,
                "editable": false,
                "nbgrader": {
                    "grade": true,
                    "grade_id": "6.02test3",
                    "locked": true,
                    "points": "1",
                    "solution": false
                }
            },
            "outputs": [],
            "source": [
                "###\n",
                "### AUTOGRADER TEST - DO NOT REMOVE\n",
                "###\n"
            ]
        },
        {
            "cell_type": "code",
            "execution_count": null,
            "metadata": {
                "collapsed": true,
                "deletable": false,
                "editable": false,
                "nbgrader": {
                    "grade": true,
                    "grade_id": "6.02test4",
                    "locked": true,
                    "points": "1",
                    "solution": false
                }
            },
            "outputs": [],
            "source": [
                "###\n",
                "### AUTOGRADER TEST - DO NOT REMOVE\n",
                "###\n"
            ]
        },
        {
            "cell_type": "markdown",
            "metadata": {
                "colab_type": "text",
                "deletable": false,
                "editable": false,
                "id": "fqUB8XBwizI6",
                "nbgrader": {
                    "grade": false,
                    "locked": true,
                    "solution": false
                }
            },
            "source": [
                "### Problem 6.03 ```max_list(inlist) ```\n"
            ]
        },
        {
            "cell_type": "markdown",
            "metadata": {
                "colab_type": "text",
                "deletable": false,
                "editable": false,
                "id": "NMOVUYyUThsK",
                "nbgrader": {
                    "grade": false,
                    "locked": true,
                    "solution": false
                }
            },
            "source": [
                "This function takes in a two-level list of lists, ```inlist```. All lists nested within ```inlist``` contain integers. You can assume that ```inlist``` and all nested lists are never empty.\n",
                "\n",
                "It returns a list, ```outlist```, such that ```outlist[i]``` is the highest value in ```inlist[i]```.\n",
                "\n",
                "```python \n",
                "inlist = [[1 ,2 ,3] ,[4 ,5]]\n",
                "print(max_list(inlist))\n",
                "inlist = [[3 ,4 ,5 ,2] ,[1 ,7] ,[8 ,0 , -1] ,[2]]\n",
                "print(max_list(inlist))\n",
                "inlist = [[3 ,4 ,5 ,2]]\n",
                "print(max_list(inlist)) \n",
                "```\n",
                "\n",
                "```python \n",
                "[3, 5]\n",
                "[5, 7, 8, 2]\n",
                "[5]\n",
                "```"
            ]
        },
        {
            "cell_type": "code",
            "execution_count": null,
            "metadata": {
                "collapsed": true
            },
            "outputs": [],
            "source": [
                "def max_list(inlist):\n",
                "    ###\n",
                "    ### YOUR CODE HERE\n",
                "    ###\n",
                "    out = []\n",
                "    pass "
            ]
        },
        {
            "cell_type": "code",
            "execution_count": null,
            "metadata": {
                "collapsed": true,
                "deletable": false,
                "editable": false,
                "nbgrader": {
                    "grade": true,
                    "grade_id": "6.03test1",
                    "locked": true,
                    "points": "1",
                    "solution": false
                }
            },
            "outputs": [],
            "source": [
                "###\n",
                "### AUTOGRADER TEST - DO NOT REMOVE\n",
                "###\n"
            ]
        },
        {
            "cell_type": "code",
            "execution_count": null,
            "metadata": {
                "collapsed": true,
                "deletable": false,
                "editable": false,
                "nbgrader": {
                    "grade": true,
                    "grade_id": "6.03test2",
                    "locked": true,
                    "points": "1",
                    "solution": false
                }
            },
            "outputs": [],
            "source": [
                "###\n",
                "### AUTOGRADER TEST - DO NOT REMOVE\n",
                "###\n"
            ]
        },
        {
            "cell_type": "code",
            "execution_count": null,
            "metadata": {
                "collapsed": true,
                "deletable": false,
                "editable": false,
                "nbgrader": {
                    "grade": true,
                    "grade_id": "6.03test3",
                    "locked": true,
                    "points": "1",
                    "solution": false
                }
            },
            "outputs": [],
            "source": [
                "###\n",
                "### AUTOGRADER TEST - DO NOT REMOVE\n",
                "###\n"
            ]
        },
        {
            "cell_type": "markdown",
            "metadata": {
                "colab_type": "text",
                "deletable": false,
                "editable": false,
                "id": "clfrnjIkU0VI",
                "nbgrader": {
                    "grade": false,
                    "locked": true,
                    "solution": false
                }
            },
            "source": [
                "### Problem 6.04 ```find_average(ls)```\n"
            ]
        },
        {
            "cell_type": "markdown",
            "metadata": {
                "colab_type": "text",
                "deletable": false,
                "editable": false,
                "id": "7Xma-yrOTCtj",
                "nbgrader": {
                    "grade": false,
                    "locked": true,
                    "solution": false
                }
            },
            "source": [
                "This function takes in a list of lists as an input. Each sublist contains numbers. \n",
                "\n",
                "The function returns a list of the averages of each sublist, and the average of all the elements (i.e. add up all the elements and take the average). All averages are rounded to two decimal places. \n",
                "\n",
                "All sublists will have at least one element. \n",
                "\n",
                "```python\n",
                "ls = [[3,4],[5,6,9],[-1,2,8]]\n",
                "ans=find_average(ls) \n",
                "print(ans)\n",
                "```\n",
                "```\n",
                "([3.5, 6.67, 3.0], 4.5)\n",
                "```\n",
                "\n",
                "---\n",
                "> #### Hint\n",
                "> Remember that one strategy for problem solving is to break the problem into smaller parts. How might you do so for this problem?\n",
                ">\n",
                "\n",
                "----\n",
                "\n"
            ]
        },
        {
            "cell_type": "code",
            "execution_count": null,
            "metadata": {
                "collapsed": true
            },
            "outputs": [],
            "source": [
                "def find_average(ls):\n",
                "    ###\n",
                "    ### YOUR CODE HERE\n",
                "    ###\n",
                "    pass \n",
                "    "
            ]
        },
        {
            "cell_type": "code",
            "execution_count": null,
            "metadata": {
                "collapsed": true,
                "deletable": false,
                "editable": false,
                "nbgrader": {
                    "grade": true,
                    "grade_id": "6.04test1",
                    "locked": true,
                    "points": "2",
                    "solution": false
                }
            },
            "outputs": [],
            "source": [
                "###\n",
                "### AUTOGRADER TEST - DO NOT REMOVE\n",
                "###\n"
            ]
        },
        {
            "cell_type": "code",
            "execution_count": null,
            "metadata": {
                "collapsed": true,
                "deletable": false,
                "editable": false,
                "nbgrader": {
                    "grade": true,
                    "grade_id": "6.04test2",
                    "locked": true,
                    "points": "2",
                    "solution": false
                }
            },
            "outputs": [],
            "source": [
                "###\n",
                "### AUTOGRADER TEST - DO NOT REMOVE\n",
                "###\n"
            ]
        },
        {
            "cell_type": "markdown",
            "metadata": {
                "colab_type": "text",
                "deletable": false,
                "editable": false,
                "id": "z6FosPy1irJ6",
                "nbgrader": {
                    "grade": false,
                    "locked": true,
                    "solution": false
                }
            },
            "source": [
                "### Problem 6.05 ```get_zero_matrix( m, n)```"
            ]
        },
        {
            "cell_type": "markdown",
            "metadata": {
                "colab_type": "text",
                "deletable": false,
                "editable": false,
                "id": "62NkFUEBd9mK",
                "nbgrader": {
                    "grade": false,
                    "locked": true,
                    "solution": false
                }
            },
            "source": [
                "This function takes in integers ```m``` and ```n``` and returns a list of lists that represents an m-by-n matrix with all entries zero. \n",
                "\n",
                "You can assume that ```m``` and ```n``` will be positive integers.\n",
                "\n",
                "```python \n",
                "ls = get_zero_matrix(2, 3)\n",
                "print(ls)\n",
                "ls[1][2] = 7\n",
                "print(ls)\n",
                "```\n",
                "\n",
                "The output is: \n",
                "```\n",
                "[[0, 0, 0], [0, 0, 0]]\n",
                "[[0, 0, 0], [0, 0, 7]]\n",
                "\n",
                "```\n",
                "\n",
                "Two other test cases:\n",
                "```python \n",
                "ls = get_zero_matrix(1, 4)\n",
                "print(ls)\n",
                "ls = get_zero_matrix(3, 1)\n",
                "print(ls) \n",
                "```  \n",
                "with output:\n",
                "```\n",
                "[[0,0,0,0] ]\n",
                "[[0], [0], [0]]\n",
                "```\n",
                "\n",
                "---\n",
                "> #### Consider\n",
                "> The following code is not the right strategy to solve this question. \n",
                "> ```python \n",
                "> x = [ 0 ]*3\n",
                "> ls = [x]*2 \n",
                "> ```\n",
                "> Explain why. \n",
                "\n",
                "---\n"
            ]
        },
        {
            "cell_type": "code",
            "execution_count": null,
            "metadata": {
                "collapsed": true
            },
            "outputs": [],
            "source": [
                "def get_zero_matrix(m, n):\n",
                "    ###\n",
                "    ### YOUR CODE HERE\n",
                "    ###\n",
                "    out = [0]*m\n",
                "    pass "
            ]
        },
        {
            "cell_type": "code",
            "execution_count": null,
            "metadata": {
                "collapsed": true,
                "deletable": false,
                "editable": false,
                "nbgrader": {
                    "grade": true,
                    "grade_id": "6.05test1",
                    "locked": true,
                    "points": "1",
                    "solution": false
                }
            },
            "outputs": [],
            "source": [
                "###\n",
                "### AUTOGRADER TEST - DO NOT REMOVE\n",
                "###\n"
            ]
        },
        {
            "cell_type": "code",
            "execution_count": null,
            "metadata": {
                "collapsed": true,
                "deletable": false,
                "editable": false,
                "nbgrader": {
                    "grade": true,
                    "grade_id": "6.05test2",
                    "locked": true,
                    "points": "1",
                    "solution": false
                }
            },
            "outputs": [],
            "source": [
                "###\n",
                "### AUTOGRADER TEST - DO NOT REMOVE\n",
                "###\n"
            ]
        },
        {
            "cell_type": "code",
            "execution_count": null,
            "metadata": {
                "collapsed": true,
                "deletable": false,
                "editable": false,
                "nbgrader": {
                    "grade": true,
                    "grade_id": "6.05test3",
                    "locked": true,
                    "points": "1",
                    "solution": false
                }
            },
            "outputs": [],
            "source": [
                "###\n",
                "### AUTOGRADER TEST - DO NOT REMOVE\n",
                "###\n"
            ]
        },
        {
            "cell_type": "code",
            "execution_count": null,
            "metadata": {
                "collapsed": true,
                "deletable": false,
                "editable": false,
                "nbgrader": {
                    "grade": true,
                    "grade_id": "6.05test4",
                    "locked": true,
                    "points": "1",
                    "solution": false
                }
            },
            "outputs": [],
            "source": [
                "###\n",
                "### AUTOGRADER TEST - DO NOT REMOVE\n",
                "###\n"
            ]
        },
        {
            "cell_type": "code",
            "execution_count": null,
            "metadata": {
                "collapsed": true,
                "deletable": false,
                "editable": false,
                "nbgrader": {
                    "grade": true,
                    "grade_id": "6.05test5",
                    "locked": true,
                    "points": "1",
                    "solution": false
                }
            },
            "outputs": [],
            "source": [
                "###\n",
                "### AUTOGRADER TEST - DO NOT REMOVE\n",
                "###\n"
            ]
        },
        {
            "cell_type": "markdown",
            "metadata": {
                "colab_type": "text",
                "deletable": false,
                "editable": false,
                "id": "JcRvpT_tim5L",
                "nbgrader": {
                    "grade": false,
                    "locked": true,
                    "solution": false
                }
            },
            "source": [
                "### Problem 6.06 ```transpose_matrix( ls)```"
            ]
        },
        {
            "cell_type": "markdown",
            "metadata": {
                "colab_type": "text",
                "deletable": false,
                "editable": false,
                "id": "cEoZfv6JV0hm",
                "nbgrader": {
                    "grade": false,
                    "locked": true,
                    "solution": false
                }
            },
            "source": [
                "This function takes in a nested list ```ls``` that represents a matrix and returns its transpose, also as a nested list. \n",
                "\n",
                "You can assume that all the sublists in ```ls``` have the same length. \n",
                "\n",
                "For example, a matrix \n",
                "$$\n",
                "A = \\begin{bmatrix} \n",
                "1 & 2 & 3 \\\\\n",
                "40 & 50 & 60\n",
                "\\end{bmatrix}\n",
                "$$\n",
                "\n",
                "can be represented by a list of lists as \n",
                "```python\n",
                "A = [ [1 ,  2, 3 ] ,\n",
                "      [40, 50, 60] ]\n",
                "```\n",
                "\n",
                "The steps are as follows: \n",
                "- determine the rows and columns of ls\n",
                "- get an empty matrix that has the correct dimensions of the transpose. You should use the function ```get_zero_matrix()```written earlier.  \n",
                "- write a nested for-loop that carries out the transpose. \n",
                "\n",
                "```python\n",
                " A = [ [1 ,  2, 3 ] ,\n",
                "      [40, 50, 60] ]\n",
                "print(transpose_matrix(A))\n",
                "```\n",
                "\n",
                "```python\n",
                "[[1, 40], [2, 50], [3, 60]]\n",
                "```"
            ]
        },
        {
            "cell_type": "code",
            "execution_count": null,
            "metadata": {
                "collapsed": true
            },
            "outputs": [],
            "source": [
                "def get_zero_matrix(m,n):\n",
                "    ###\n",
                "    ### <Paste your previous solution here>\n",
                "    ###\n",
                "    pass\n",
                "    \n",
                "\n",
                "def transpose_matrix(ls):\n",
                "    ###\n",
                "    ### YOUR CODE HERE\n",
                "    ###\n",
                "    rows = len(ls)\n",
                "    pass\n",
                "\n",
                "A = [ [1 ,  2, 3 ] ,\n",
                "      [40, 50, 60] ]\n",
                "print(transpose_matrix(A))"
            ]
        },
        {
            "cell_type": "code",
            "execution_count": null,
            "metadata": {
                "collapsed": true,
                "deletable": false,
                "editable": false,
                "nbgrader": {
                    "grade": true,
                    "grade_id": "6.06test0",
                    "locked": true,
                    "points": "1",
                    "solution": false
                }
            },
            "outputs": [],
            "source": [
                "###\n",
                "### AUTOGRADER TEST - DO NOT REMOVE\n",
                "###\n"
            ]
        },
        {
            "cell_type": "code",
            "execution_count": null,
            "metadata": {
                "collapsed": true,
                "deletable": false,
                "editable": false,
                "nbgrader": {
                    "grade": true,
                    "grade_id": "6.06test1",
                    "locked": true,
                    "points": "1",
                    "solution": false
                }
            },
            "outputs": [],
            "source": [
                "###\n",
                "### AUTOGRADER TEST - DO NOT REMOVE\n",
                "###\n"
            ]
        },
        {
            "cell_type": "code",
            "execution_count": null,
            "metadata": {
                "collapsed": true,
                "deletable": false,
                "editable": false,
                "nbgrader": {
                    "grade": true,
                    "grade_id": "6.06test2",
                    "locked": true,
                    "points": "1",
                    "solution": false
                }
            },
            "outputs": [],
            "source": [
                "###\n",
                "### AUTOGRADER TEST - DO NOT REMOVE\n",
                "###\n"
            ]
        },
        {
            "cell_type": "code",
            "execution_count": null,
            "metadata": {
                "collapsed": true,
                "deletable": false,
                "editable": false,
                "nbgrader": {
                    "grade": true,
                    "grade_id": "6.06test3",
                    "locked": true,
                    "points": "1",
                    "solution": false
                }
            },
            "outputs": [],
            "source": [
                "###\n",
                "### AUTOGRADER TEST - DO NOT REMOVE\n",
                "###\n"
            ]
        },
        {
            "cell_type": "code",
            "execution_count": null,
            "metadata": {
                "collapsed": true,
                "deletable": false,
                "editable": false,
                "nbgrader": {
                    "grade": true,
                    "grade_id": "6.06test4",
                    "locked": true,
                    "points": "1",
                    "solution": false
                }
            },
            "outputs": [],
            "source": [
                "###\n",
                "### AUTOGRADER TEST - DO NOT REMOVE\n",
                "###\n"
            ]
        },
        {
            "cell_type": "markdown",
            "metadata": {
                "colab_type": "text",
                "deletable": false,
                "editable": false,
                "id": "1KLh8gG4ifHC",
                "nbgrader": {
                    "grade": false,
                    "locked": true,
                    "solution": false
                }
            },
            "source": [
                "### Problem 6.07 ```process_scores(f)```"
            ]
        },
        {
            "cell_type": "markdown",
            "metadata": {
                "colab_type": "text",
                "deletable": false,
                "editable": false,
                "id": "0k3phG9qUmvM",
                "nbgrader": {
                    "grade": false,
                    "locked": true,
                    "solution": false
                }
            },
            "source": [
                "Suppose that a text file contains an unspecified number of integer scores on a single line that is separated by any number of spaces. There could be leading and trailing spaces too. For example:\n",
                "\n",
                "```python\n",
                "   14   16 17      18  26    30   32   33 35   38  40 60  66   69   87     \n",
                "```\n",
                "\n",
                "The file object ```f``` is a reference to this file and is passed to this function.  \n",
                "\n",
                "This function takes in  ```f``` as an argument, reads the scores from ```f``` and returns their total and average. The average is rounded to one decimal place.   \n",
                "\n",
                "You can download ```scores.txt``` for testing. You'll find in the ```resources\\asnlib``` folder, which you saw in vocareum before you clicked to enter this notebook. \n",
                "\n",
                "Remember to save it to the same directory as your python code. \n",
                "\n",
                "To test your function on your IDE: \n",
                "```python \n",
                "def process_scores(f):\n",
                "    #your solution here \n",
                "    pass \n",
                "\n",
                "with open('scores.txt') as f: \n",
                "  ans=process_scores(f) \n",
                "  print(ans)\n",
                "```\n",
                "\n",
                "The output should be:\n",
                "```\n",
                "(581, 38.7)\n",
                "```\n",
                "\n",
                "---\n",
                "> \n",
                "> **Hint**\n",
                "> \n",
                "> Given a string with leading and trailing spaces as follows\n",
                "> ```python   \n",
                ">     10  20     30   \n",
                "> ``` \n",
                "> \n",
                "> you should find a way to parse it into list as \n",
                "> ```python \n",
                "> [ '10','20','30']\n",
                "> ```\n",
                ">\n",
                "---"
            ]
        },
        {
            "cell_type": "code",
            "execution_count": null,
            "metadata": {
                "collapsed": true
            },
            "outputs": [],
            "source": [
                "def process_scores(f):\n",
                "    ###\n",
                "    ### YOUR CODE HERE\n",
                "    ###\n",
                "    pass"
            ]
        },
        {
            "cell_type": "code",
            "execution_count": null,
            "metadata": {
                "collapsed": true,
                "deletable": false,
                "editable": false,
                "nbgrader": {
                    "grade": false,
                    "locked": true,
                    "solution": false
                }
            },
            "outputs": [],
            "source": [
                "# *** THIS CELL IS READ-ONLY ***\n",
                "# This cell shows you how to access the file stored in the \n",
                "# vocareum file system \n",
                "# Place your cursor here and press CTRL+ENTER\n",
                "# after completing your function above \n",
                "#\n",
                "# The filepath is for running on vocareum\n",
                "# modify it if you are running it in your own computer \n",
                "filepath = '../resource/asnlib/publicdata/scores.txt'\n",
                "\n",
                "with open(filepath,'r') as f:\n",
                "    out = process_scores(f)\n",
                "    print(out)"
            ]
        },
        {
            "cell_type": "code",
            "execution_count": null,
            "metadata": {
                "collapsed": true,
                "deletable": false,
                "editable": false,
                "nbgrader": {
                    "grade": true,
                    "grade_id": "6.07test1",
                    "locked": true,
                    "points": "3",
                    "solution": false
                }
            },
            "outputs": [],
            "source": [
                "###\n",
                "### AUTOGRADER TEST - DO NOT REMOVE\n",
                "###\n"
            ]
        },
        {
            "cell_type": "markdown",
            "metadata": {
                "colab_type": "text",
                "deletable": false,
                "editable": false,
                "id": "3lobALA6iNgs",
                "nbgrader": {
                    "grade": false,
                    "locked": true,
                    "solution": false
                }
            },
            "source": [
                "### Problem 6.08 ```read_fdi(f)```"
            ]
        },
        {
            "cell_type": "markdown",
            "metadata": {
                "colab_type": "text",
                "deletable": false,
                "editable": false,
                "id": "63jlYwhqUpUy",
                "nbgrader": {
                    "grade": false,
                    "locked": true,
                    "solution": false
                }
            },
            "source": [
                "The following data is found in ```fdi.csv```. The data is taken from [data.gov.sg](https://data.gov.sg/dataset/earnings-of-foreign-direct-investment-in-singapore-by-industry-during-the-year-annual)\n",
                "\n",
                "```python\n",
                "year,level_1,value\n",
                "1998,Total,2995.4\n",
                "1999,Total,15443.7\n",
                "2000,Total,22174.1\n",
                "2001,Total,18314.6\n",
                "2002,Total,24611.3\n",
                "2003,Total,30256.9\n",
                "2004,Total,43943.7\n",
                "2005,Total,53896.3\n",
                "```\n",
                "\n",
                "The function takes in a file object that references this file and returns a dictionary.\n",
                "\n",
                "The keys of the dictionary are the year and the corresponding values is the data under the ```value``` column. \n",
                "\n",
                "To test your function on your IDE:  \n",
                "```python \n",
                "def read_fdi(f):\n",
                "    #your solution here \n",
                "    pass \n",
                "\n",
                "with open('fdi.csv') as f: \n",
                "  data = read_fdi(f) \n",
                "  print(data)\n",
                "```\n",
                "\n",
                "The output should be:\n",
                "```python\n",
                "{'1998': 2995.4, '1999': 15443.7, '2000': 22174.1, '2001': 18314.6, '2002': 24611.3, '2003': 30256.9, '2004': 43943.7, '2005': 53896.3}\n",
                "```\n"
            ]
        },
        {
            "cell_type": "code",
            "execution_count": null,
            "metadata": {
                "collapsed": true
            },
            "outputs": [],
            "source": [
                "def read_fdi(f):\n",
                "    ###\n",
                "    ### YOUR CODE HERE\n",
                "    ###\n",
                "    pass "
            ]
        },
        {
            "cell_type": "code",
            "execution_count": null,
            "metadata": {
                "collapsed": true,
                "deletable": false,
                "editable": false,
                "nbgrader": {
                    "grade": false,
                    "locked": true,
                    "solution": false
                }
            },
            "outputs": [],
            "source": [
                "# *** THIS CELL IS READ-ONLY ***\n",
                "# This cell shows you how to access the file stored in the \n",
                "# vocareum file system \n",
                "# Place your cursor here and press CTRL+ENTER\n",
                "# after completing your function above \n",
                "#\n",
                "# The filepath is for running on vocareum\n",
                "# modify it if you are running it in your own computer \n",
                "filepath = '../resource/asnlib/publicdata/fdi.csv'\n",
                "\n",
                "with open(filepath,'r') as f:\n",
                "    data = read_fdi(f)\n",
                "    print(data)"
            ]
        },
        {
            "cell_type": "code",
            "execution_count": null,
            "metadata": {
                "collapsed": true,
                "deletable": false,
                "editable": false,
                "nbgrader": {
                    "grade": true,
                    "grade_id": "6.08test1",
                    "locked": true,
                    "points": "3",
                    "solution": false
                }
            },
            "outputs": [],
            "source": [
                "###\n",
                "### AUTOGRADER TEST - DO NOT REMOVE\n",
                "###\n"
            ]
        },
        {
            "cell_type": "markdown",
            "metadata": {
                "colab_type": "text",
                "deletable": false,
                "editable": false,
                "id": "1esIj3la3uqu",
                "nbgrader": {
                    "grade": false,
                    "locked": true,
                    "solution": false
                }
            },
            "source": [
                "### Problem 6.09 ```gc_content( f )```"
            ]
        },
        {
            "cell_type": "markdown",
            "metadata": {
                "colab_type": "text",
                "deletable": false,
                "editable": false,
                "id": "kDhC7oif35JG",
                "nbgrader": {
                    "grade": false,
                    "locked": true,
                    "solution": false
                }
            },
            "source": [
                "Typical text files that contain a DNA sequence looks as follows. \n",
                "\n",
                "```python\n",
                "AGCCCTCCAGGACAGGCTGCATCAGAAGAGGCCATCAAGCAGGTCTGTTCCAAGGGCCTTTGCGTCAGGT\n",
                "GGGCTCAGGATTCCAGGGTGGCTGGACCCCAGGCCCCAGCTCTGCAGCAGGGAGGACGTGGCTGGGCTCG\n",
                "TGAAGCATGTGGGGGTGAGCCCAGGGGCCCCAAGGCAGGGCACCTGGC\n",
                "```\n",
                "\n",
                "The GC-content of a DNA sequence is the percentage of **G** and **C** bases in the DNA sequence. \n",
                "\n",
                "This function takes in a file pointer to the file ```f``` and returns the GC content as a percentage, rounded to one decimal place. \n",
                "\n",
                "\n",
                "For the test case below, lets assume that we work with a smaller text file containing 23 bases:\n",
                "```python\n",
                "# contents of dna.txt\n",
                "# total 23 bases \n",
                "GGGTGCACCTTT\n",
                "CCAACTTCGTA\n",
                "```\n",
                "\n",
                "Hence, \n",
                "```python \n",
                "filename = 'dna.txt'\n",
                "with open(filename, 'r') as f:\n",
                "    percentage = gc_content(f)\n",
                "    print(percentage)\n",
                "```\n",
                "\n",
                "results in\n",
                "```\n",
                "52.2\n",
                "```"
            ]
        },
        {
            "cell_type": "code",
            "execution_count": null,
            "metadata": {
                "collapsed": true
            },
            "outputs": [],
            "source": [
                "def gc_content(f):\n",
                "    ###\n",
                "    ### YOUR CODE HERE\n",
                "    ###\n",
                "    bases_to_check = 'CG'\n",
                "    pass "
            ]
        },
        {
            "cell_type": "code",
            "execution_count": null,
            "metadata": {
                "collapsed": true,
                "deletable": false,
                "editable": false,
                "nbgrader": {
                    "grade": false,
                    "locked": true,
                    "solution": false
                }
            },
            "outputs": [],
            "source": [
                "# *** THIS CELL IS READ-ONLY ***\n",
                "# This cell shows you how to access the file stored in the \n",
                "# vocareum file system \n",
                "# Place your cursor here and press CTRL+ENTER\n",
                "# after completing your function above \n",
                "#\n",
                "# The filepath is for running on vocareum\n",
                "# modify it if you are running it in your own computer \n",
                "filepath = '../resource/asnlib/publicdata/dna.txt'\n",
                "\n",
                "with open(filepath,'r') as f:\n",
                "    solution = gc_content(f)\n",
                "    print(solution)"
            ]
        },
        {
            "cell_type": "code",
            "execution_count": null,
            "metadata": {
                "collapsed": true,
                "deletable": false,
                "editable": false,
                "nbgrader": {
                    "grade": true,
                    "grade_id": "6.09test1",
                    "locked": true,
                    "points": "3",
                    "solution": false
                }
            },
            "outputs": [],
            "source": [
                "###\n",
                "### AUTOGRADER TEST - DO NOT REMOVE\n",
                "###\n"
            ]
        },
        {
            "cell_type": "markdown",
            "metadata": {
                "colab_type": "text",
                "deletable": false,
                "editable": false,
                "id": "JcRvpT_tim5L",
                "nbgrader": {
                    "grade": false,
                    "locked": true,
                    "solution": false
                }
            },
            "source": [
                "### Problem 6.10a  ```scalar_multiply(ls, a)```"
            ]
        },
        {
            "cell_type": "markdown",
            "metadata": {
                "colab_type": "text",
                "deletable": false,
                "editable": false,
                "id": "cEoZfv6JV0hm",
                "nbgrader": {
                    "grade": false,
                    "locked": true,
                    "solution": false
                }
            },
            "source": [
                "This function takes in a list of lists  ```ls``` that represents a matrix, and multiplies every element by the numerical value ```a```. \n",
                "\n",
                "This operation is conducted **in-place**. \n",
                "\n",
                "You can assume that all the sublists in ```ls``` have the same length. \n",
                "\n",
                "```python\n",
                " A = [ [10, 20, 30 ] ,\n",
                "      [40, 50, 60] ]\n",
                "scalar_multiply(A, 0.2)\n",
                "print(A)\n",
                "```\n",
                "\n",
                "```python\n",
                "[[2.0, 4.0, 6.0], [8.0, 10.0, 12.0]]\n",
                "```"
            ]
        },
        {
            "cell_type": "code",
            "execution_count": null,
            "metadata": {
                "collapsed": true
            },
            "outputs": [],
            "source": [
                "def scalar_multiply(ls, a):\n",
                "    ###\n",
                "    ### YOUR CODE HERE\n",
                "    ###\n",
                "    rows = len(ls)\n",
                "    pass\n",
                "\n",
                "A = [ [10 , 20, 30 ] ,\n",
                "      [40, 50, 60] ]\n",
                "scalar_multiply(A, 0.2)\n",
                "print(A)"
            ]
        },
        {
            "cell_type": "code",
            "execution_count": null,
            "metadata": {
                "collapsed": true,
                "deletable": false,
                "editable": false,
                "nbgrader": {
                    "grade": true,
                    "grade_id": "6.10atest1",
                    "locked": true,
                    "points": "1",
                    "solution": false
                }
            },
            "outputs": [],
            "source": [
                "###\n",
                "### AUTOGRADER TEST - DO NOT REMOVE\n",
                "###\n"
            ]
        },
        {
            "cell_type": "code",
            "execution_count": null,
            "metadata": {
                "collapsed": true,
                "deletable": false,
                "editable": false,
                "nbgrader": {
                    "grade": true,
                    "grade_id": "6.10atest2",
                    "locked": true,
                    "points": "1",
                    "solution": false
                }
            },
            "outputs": [],
            "source": [
                "###\n",
                "### AUTOGRADER TEST - DO NOT REMOVE\n",
                "###\n"
            ]
        },
        {
            "cell_type": "markdown",
            "metadata": {
                "colab_type": "text",
                "deletable": false,
                "editable": false,
                "id": "JcRvpT_tim5L",
                "nbgrader": {
                    "grade": false,
                    "locked": true,
                    "solution": false
                }
            },
            "source": [
                "### Problem 6.10b  ```scalar_multiply_new(ls, a)```"
            ]
        },
        {
            "cell_type": "markdown",
            "metadata": {
                "colab_type": "text",
                "deletable": false,
                "editable": false,
                "id": "cEoZfv6JV0hm",
                "nbgrader": {
                    "grade": false,
                    "locked": true,
                    "solution": false
                }
            },
            "source": [
                "This function takes in a list of lists  ```ls``` that represents a matrix. \n",
                "\n",
                "**It returns a new list**, where each element in this list is equivalent to the corresponding element in ```ls``` multiplied by numerical value ```a```.  \n",
                "\n",
                "You can assume that all the sublists in ```ls``` have the same length. \n",
                "\n",
                "```python\n",
                "A = [ [10, 20, 30 ] ,\n",
                "      [40, 50, 60] ]\n",
                "B = scalar_multiply(A, 0.2)\n",
                "print(A)\n",
                "print(B)\n",
                "```\n",
                "\n",
                "```python\n",
                "[[10, 20, 30], [40, 50, 60]]\n",
                "[[2.0, 4.0, 6.0], [8.0, 10.0, 12.0]]\n",
                "```"
            ]
        },
        {
            "cell_type": "code",
            "execution_count": null,
            "metadata": {
                "collapsed": true
            },
            "outputs": [],
            "source": [
                "### import any necessary libraries you need \n",
                "### or re-use any function written earlier \n",
                "def scalar_multiply_new(ls, a):\n",
                "    ###\n",
                "    ### YOUR CODE HERE\n",
                "    ###\n",
                "    rows = len(ls)\n",
                "    pass\n",
                "\n",
                "A = [ [10, 20, 30 ] ,\n",
                "      [40, 50, 60] ]\n",
                "B = scalar_multiply_new(A, 0.2)\n",
                "print(A)\n",
                "print(B)"
            ]
        },
        {
            "cell_type": "code",
            "execution_count": null,
            "metadata": {
                "collapsed": true,
                "deletable": false,
                "editable": false,
                "nbgrader": {
                    "grade": true,
                    "grade_id": "6.10btest1",
                    "locked": true,
                    "points": "1",
                    "solution": false
                }
            },
            "outputs": [],
            "source": [
                "###\n",
                "### AUTOGRADER TEST - DO NOT REMOVE\n",
                "###\n"
            ]
        },
        {
            "cell_type": "code",
            "execution_count": null,
            "metadata": {
                "collapsed": true,
                "deletable": false,
                "editable": false,
                "nbgrader": {
                    "grade": true,
                    "grade_id": "6.10btest2",
                    "locked": true,
                    "points": "1",
                    "solution": false
                }
            },
            "outputs": [],
            "source": [
                "###\n",
                "### AUTOGRADER TEST - DO NOT REMOVE\n",
                "###\n"
            ]
        }
    ],
    "metadata": {
        "colab": {
            "name": "Lesson 6.ipynb",
            "provenance": []
        },
        "kernelspec": {
            "display_name": "Python 3 [3.7]",
            "language": "python",
            "name": "python3"
        },
        "language_info": {
            "codemirror_mode": {
                "name": "ipython",
                "version": 3
            },
            "file_extension": ".py",
            "mimetype": "text/x-python",
            "name": "python",
            "nbconvert_exporter": "python",
            "pygments_lexer": "ipython3",
            "version": "3.7.5"
        }
    },
    "nbformat": 4,
    "nbformat_minor": 1
}
